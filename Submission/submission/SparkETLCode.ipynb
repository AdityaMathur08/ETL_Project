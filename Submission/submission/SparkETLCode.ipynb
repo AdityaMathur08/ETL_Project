{
 "cells": [
  {
   "cell_type": "markdown",
   "id": "03b9ec34",
   "metadata": {},
   "source": [
    "### ETL For the Project:\n",
    "- Source Data avilable in HDFS directory: /home/hadoop/ETL_Project_SRC_data/\n",
    "- Setting up Spark session from spark context as 'spark'"
   ]
  },
  {
   "cell_type": "code",
   "execution_count": 1,
   "id": "ba96996f",
   "metadata": {},
   "outputs": [
    {
     "data": {
      "application/vnd.jupyter.widget-view+json": {
       "model_id": "664dd7bda81447c4bdc0ef3311625b11",
       "version_major": 2,
       "version_minor": 0
      },
      "text/plain": [
       "VBox()"
      ]
     },
     "metadata": {},
     "output_type": "display_data"
    },
    {
     "name": "stdout",
     "output_type": "stream",
     "text": [
      "Starting Spark application\n"
     ]
    },
    {
     "data": {
      "text/html": [
       "<table>\n",
       "<tr><th>ID</th><th>YARN Application ID</th><th>Kind</th><th>State</th><th>Spark UI</th><th>Driver log</th><th>Current session?</th></tr><tr><td>0</td><td>application_1651684218980_0002</td><td>pyspark</td><td>idle</td><td><a target=\"_blank\" href=\"http://ip-10-0-0-157.ec2.internal:20888/proxy/application_1651684218980_0002/\">Link</a></td><td><a target=\"_blank\" href=\"http://ip-10-0-0-164.ec2.internal:8042/node/containerlogs/container_1651684218980_0002_01_000001/livy\">Link</a></td><td>✔</td></tr></table>"
      ],
      "text/plain": [
       "<IPython.core.display.HTML object>"
      ]
     },
     "metadata": {},
     "output_type": "display_data"
    },
    {
     "data": {
      "application/vnd.jupyter.widget-view+json": {
       "model_id": "",
       "version_major": 2,
       "version_minor": 0
      },
      "text/plain": [
       "FloatProgress(value=0.0, bar_style='info', description='Progress:', layout=Layout(height='25px', width='50%'),…"
      ]
     },
     "metadata": {},
     "output_type": "display_data"
    },
    {
     "name": "stdout",
     "output_type": "stream",
     "text": [
      "SparkSession available as 'spark'.\n"
     ]
    },
    {
     "data": {
      "application/vnd.jupyter.widget-view+json": {
       "model_id": "",
       "version_major": 2,
       "version_minor": 0
      },
      "text/plain": [
       "FloatProgress(value=0.0, bar_style='info', description='Progress:', layout=Layout(height='25px', width='50%'),…"
      ]
     },
     "metadata": {},
     "output_type": "display_data"
    },
    {
     "name": "stdout",
     "output_type": "stream",
     "text": [
      "<pyspark.sql.session.SparkSession object at 0x7fae69d73bd0>"
     ]
    }
   ],
   "source": [
    "spark"
   ]
  },
  {
   "cell_type": "code",
   "execution_count": 2,
   "id": "57e2e741",
   "metadata": {},
   "outputs": [
    {
     "data": {
      "application/vnd.jupyter.widget-view+json": {
       "model_id": "1cde4da594ac42378bb4bb2016e494c4",
       "version_major": 2,
       "version_minor": 0
      },
      "text/plain": [
       "VBox()"
      ]
     },
     "metadata": {},
     "output_type": "display_data"
    },
    {
     "data": {
      "application/vnd.jupyter.widget-view+json": {
       "model_id": "",
       "version_major": 2,
       "version_minor": 0
      },
      "text/plain": [
       "FloatProgress(value=0.0, bar_style='info', description='Progress:', layout=Layout(height='25px', width='50%'),…"
      ]
     },
     "metadata": {},
     "output_type": "display_data"
    }
   ],
   "source": [
    "hdfs_path = \"/home/hadoop/ETL_Project_SRC_data/\""
   ]
  },
  {
   "cell_type": "markdown",
   "id": "b728d35d",
   "metadata": {},
   "source": [
    "#### Reading data from HDFS into Spark Dataframe using DataFrame Reader API form PySpark"
   ]
  },
  {
   "cell_type": "code",
   "execution_count": 3,
   "id": "96eadc5f",
   "metadata": {},
   "outputs": [
    {
     "data": {
      "application/vnd.jupyter.widget-view+json": {
       "model_id": "839d4510fefe48b98ec39bc58050bb18",
       "version_major": 2,
       "version_minor": 0
      },
      "text/plain": [
       "VBox()"
      ]
     },
     "metadata": {},
     "output_type": "display_data"
    },
    {
     "data": {
      "application/vnd.jupyter.widget-view+json": {
       "model_id": "",
       "version_major": 2,
       "version_minor": 0
      },
      "text/plain": [
       "FloatProgress(value=0.0, bar_style='info', description='Progress:', layout=Layout(height='25px', width='50%'),…"
      ]
     },
     "metadata": {},
     "output_type": "display_data"
    }
   ],
   "source": [
    "atm_trans = spark.read.format(\"csv\").option(\"header\",\"true\").load(hdfs_path)"
   ]
  },
  {
   "cell_type": "code",
   "execution_count": 4,
   "id": "c1a5fec7",
   "metadata": {},
   "outputs": [
    {
     "data": {
      "application/vnd.jupyter.widget-view+json": {
       "model_id": "1620943347cd4c3089c0cf1b9e844a1f",
       "version_major": 2,
       "version_minor": 0
      },
      "text/plain": [
       "VBox()"
      ]
     },
     "metadata": {},
     "output_type": "display_data"
    },
    {
     "data": {
      "application/vnd.jupyter.widget-view+json": {
       "model_id": "",
       "version_major": 2,
       "version_minor": 0
      },
      "text/plain": [
       "FloatProgress(value=0.0, bar_style='info', description='Progress:', layout=Layout(height='25px', width='50%'),…"
      ]
     },
     "metadata": {},
     "output_type": "display_data"
    },
    {
     "name": "stdout",
     "output_type": "stream",
     "text": [
      "root\n",
      " |-- 2017: string (nullable = true)\n",
      " |-- January: string (nullable = true)\n",
      " |-- 12: string (nullable = true)\n",
      " |-- Sunday: string (nullable = true)\n",
      " |-- 0: string (nullable = true)\n",
      " |-- Active: string (nullable = true)\n",
      " |-- 16: string (nullable = true)\n",
      " |-- NCR: string (nullable = true)\n",
      " |-- NÃƒÂ¦stved: string (nullable = true)\n",
      " |-- Farimagsvej: string (nullable = true)\n",
      " |-- 8: string (nullable = true)\n",
      " |-- 4700: string (nullable = true)\n",
      " |-- 55.233: string (nullable = true)\n",
      " |-- 11.763: string (nullable = true)\n",
      " |-- DKK: string (nullable = true)\n",
      " |-- MasterCard: string (nullable = true)\n",
      " |-- 5643: string (nullable = true)\n",
      " |-- Withdrawal: string (nullable = true)\n",
      " |-- _c18: string (nullable = true)\n",
      " |-- _c19: string (nullable = true)\n",
      " |-- 55.230: string (nullable = true)\n",
      " |-- 11.761: string (nullable = true)\n",
      " |-- 2616038: string (nullable = true)\n",
      " |-- Naestved: string (nullable = true)\n",
      " |-- 281.150: string (nullable = true)\n",
      " |-- 1014: string (nullable = true)\n",
      " |-- 87: string (nullable = true)\n",
      " |-- 7: string (nullable = true)\n",
      " |-- 260: string (nullable = true)\n",
      " |-- 0.215: string (nullable = true)\n",
      " |-- 92: string (nullable = true)\n",
      " |-- 500: string (nullable = true)\n",
      " |-- Rain: string (nullable = true)\n",
      " |-- light rain: string (nullable = true)"
     ]
    }
   ],
   "source": [
    "atm_trans.printSchema()"
   ]
  },
  {
   "cell_type": "code",
   "execution_count": 5,
   "id": "3aa7dee6",
   "metadata": {},
   "outputs": [
    {
     "data": {
      "application/vnd.jupyter.widget-view+json": {
       "model_id": "443c53ca3024444d92767ebfda704fe5",
       "version_major": 2,
       "version_minor": 0
      },
      "text/plain": [
       "VBox()"
      ]
     },
     "metadata": {},
     "output_type": "display_data"
    },
    {
     "data": {
      "application/vnd.jupyter.widget-view+json": {
       "model_id": "",
       "version_major": 2,
       "version_minor": 0
      },
      "text/plain": [
       "FloatProgress(value=0.0, bar_style='info', description='Progress:', layout=Layout(height='25px', width='50%'),…"
      ]
     },
     "metadata": {},
     "output_type": "display_data"
    },
    {
     "name": "stdout",
     "output_type": "stream",
     "text": [
      "(2468571, 34)"
     ]
    }
   ],
   "source": [
    "print((atm_trans.count(), len(atm_trans.columns)))"
   ]
  },
  {
   "cell_type": "markdown",
   "id": "df4dd4c1",
   "metadata": {},
   "source": [
    "This dataset comprises around 2.5 million records and 34 columns."
   ]
  },
  {
   "cell_type": "code",
   "execution_count": 6,
   "id": "666560fc",
   "metadata": {},
   "outputs": [
    {
     "data": {
      "application/vnd.jupyter.widget-view+json": {
       "model_id": "4f43cbb3e4ff44b48393ceb8ea17ffb0",
       "version_major": 2,
       "version_minor": 0
      },
      "text/plain": [
       "VBox()"
      ]
     },
     "metadata": {},
     "output_type": "display_data"
    },
    {
     "data": {
      "application/vnd.jupyter.widget-view+json": {
       "model_id": "",
       "version_major": 2,
       "version_minor": 0
      },
      "text/plain": [
       "FloatProgress(value=0.0, bar_style='info', description='Progress:', layout=Layout(height='25px', width='50%'),…"
      ]
     },
     "metadata": {},
     "output_type": "display_data"
    }
   ],
   "source": [
    "#Schema defination\n",
    "\n",
    "from pyspark.sql.types import StructType, StructField, IntegerType, StringType, DoubleType\n",
    "atm_trans_schema = StructType(fields = [\n",
    "    StructField(\"year\",IntegerType()) ,\n",
    "    StructField(\"month\",StringType()),\n",
    "    StructField(\"day\",IntegerType()),\n",
    "    StructField(\"weekday\",StringType()),\n",
    "    StructField(\"hour\",IntegerType()),\n",
    "    StructField(\"atm_status\",StringType()),\n",
    "    StructField(\"atm_id\",IntegerType()),\n",
    "    StructField(\"atm_manufacturer\",StringType()),\n",
    "    StructField(\"atm_location\",StringType()),\n",
    "    StructField(\"atm_streetname\",StringType()),\n",
    "    StructField(\"atm_street_number\",IntegerType()),\n",
    "    StructField(\"atm_zipcode\",IntegerType()),\n",
    "    StructField(\"atm_lat\",DoubleType()),\n",
    "    StructField(\"atm_lon\",DoubleType()),\n",
    "    StructField(\"currency\",StringType()),\n",
    "    StructField(\"card_type\",StringType()),\n",
    "    StructField(\"message_code\",StringType()),\n",
    "    StructField(\"service\",StringType()),\n",
    "    StructField(\"message_text\",StringType()),\n",
    "    StructField(\"message_text_1\",StringType()),\n",
    "    StructField(\"weather_lat\",DoubleType()),\n",
    "    StructField(\"weather_lon\",DoubleType()),\n",
    "    StructField(\"weather_city_id\",IntegerType()),\n",
    "    StructField(\"weather_city_name\",StringType()),\n",
    "    StructField(\"temp\",DoubleType()),\n",
    "    StructField(\"pressure\",IntegerType()),\n",
    "    StructField(\"humidity\",IntegerType()),\n",
    "    StructField(\"wind_speed\",IntegerType()),\n",
    "    StructField(\"wind_deg\",IntegerType()),\n",
    "    StructField(\"rain_3h\",DoubleType()),\n",
    "    StructField(\"clouds_all\",IntegerType()),\n",
    "    StructField(\"weather_id\",IntegerType()),\n",
    "    StructField(\"weather_main\",StringType()),\n",
    "    StructField(\"weather_description\",StringType())\n",
    "    \n",
    "])\n"
   ]
  },
  {
   "cell_type": "code",
   "execution_count": 7,
   "id": "2dba4c85",
   "metadata": {},
   "outputs": [
    {
     "data": {
      "application/vnd.jupyter.widget-view+json": {
       "model_id": "0e87add014c34c179c90ca27d28389d2",
       "version_major": 2,
       "version_minor": 0
      },
      "text/plain": [
       "VBox()"
      ]
     },
     "metadata": {},
     "output_type": "display_data"
    },
    {
     "data": {
      "application/vnd.jupyter.widget-view+json": {
       "model_id": "",
       "version_major": 2,
       "version_minor": 0
      },
      "text/plain": [
       "FloatProgress(value=0.0, bar_style='info', description='Progress:', layout=Layout(height='25px', width='50%'),…"
      ]
     },
     "metadata": {},
     "output_type": "display_data"
    }
   ],
   "source": [
    "# Reading the data again with the defined Schema.\n",
    "atm_trans = spark.read.format(\"csv\") \\\n",
    ".schema(atm_trans_schema) \\\n",
    ".load(hdfs_path)"
   ]
  },
  {
   "cell_type": "code",
   "execution_count": 8,
   "id": "10f513a5",
   "metadata": {},
   "outputs": [
    {
     "data": {
      "application/vnd.jupyter.widget-view+json": {
       "model_id": "b604d0e3ca574e6b8e44283c15f9ef47",
       "version_major": 2,
       "version_minor": 0
      },
      "text/plain": [
       "VBox()"
      ]
     },
     "metadata": {},
     "output_type": "display_data"
    },
    {
     "data": {
      "application/vnd.jupyter.widget-view+json": {
       "model_id": "",
       "version_major": 2,
       "version_minor": 0
      },
      "text/plain": [
       "FloatProgress(value=0.0, bar_style='info', description='Progress:', layout=Layout(height='25px', width='50%'),…"
      ]
     },
     "metadata": {},
     "output_type": "display_data"
    },
    {
     "name": "stdout",
     "output_type": "stream",
     "text": [
      "+----+-------+---+-------+----+----------+------+----------------+------------+-------------------+-----------------+-----------+-------+-------+--------+----------+------------+----------+------------+--------------+-----------+-----------+---------------+-----------------+------+--------+--------+----------+--------+-------+----------+----------+------------+--------------------+\n",
      "|year|  month|day|weekday|hour|atm_status|atm_id|atm_manufacturer|atm_location|     atm_streetname|atm_street_number|atm_zipcode|atm_lat|atm_lon|currency| card_type|message_code|   service|message_text|message_text_1|weather_lat|weather_lon|weather_city_id|weather_city_name|  temp|pressure|humidity|wind_speed|wind_deg|rain_3h|clouds_all|weather_id|weather_main| weather_description|\n",
      "+----+-------+---+-------+----+----------+------+----------------+------------+-------------------+-----------------+-----------+-------+-------+--------+----------+------------+----------+------------+--------------+-----------+-----------+---------------+-----------------+------+--------+--------+----------+--------+-------+----------+----------+------------+--------------------+\n",
      "|2017|January|  1| Sunday|   0|    Active|     1|             NCR|  NÃƒÂ¦stved|        Farimagsvej|                8|       4700| 55.233| 11.763|     DKK|MasterCard|        5643|Withdrawal|        null|          null|      55.23|     11.761|        2616038|         Naestved|281.15|    1014|      87|         7|     260|  0.215|        92|       500|        Rain|          light rain|\n",
      "|2017|January|  1| Sunday|   0|  Inactive|     2|             NCR|    Vejgaard|         Hadsundvej|               20|       9000| 57.043|   9.95|     DKK|MasterCard|        1764|Withdrawal|        null|          null|     57.048|      9.935|        2616235|   NÃƒÂ¸rresundby|280.64|    1020|      93|         9|     250|   0.59|        92|       500|        Rain|          light rain|\n",
      "|2017|January|  1| Sunday|   0|  Inactive|     2|             NCR|    Vejgaard|         Hadsundvej|               20|       9000| 57.043|   9.95|     DKK|      VISA|        1891|Withdrawal|        null|          null|     57.048|      9.935|        2616235|   NÃƒÂ¸rresundby|280.64|    1020|      93|         9|     250|   0.59|        92|       500|        Rain|          light rain|\n",
      "|2017|January|  1| Sunday|   0|  Inactive|     3|             NCR|       Ikast|RÃƒÂ¥dhusstrÃƒÂ¦det|               12|       7430| 56.139|  9.154|     DKK|      VISA|        4166|Withdrawal|        null|          null|     56.139|      9.158|        2619426|            Ikast|281.15|    1011|     100|         6|     240|    0.0|        75|       300|     Drizzle|light intensity d...|\n",
      "|2017|January|  1| Sunday|   0|    Active|     4|             NCR|  Svogerslev|       BrÃƒÂ¸nsager|                1|       4000| 55.634| 12.018|     DKK|MasterCard|        5153|Withdrawal|        null|          null|     55.642|      12.08|        2614481|         Roskilde|280.61|    1014|      87|         7|     260|    0.0|        88|       701|        Mist|                mist|\n",
      "+----+-------+---+-------+----+----------+------+----------------+------------+-------------------+-----------------+-----------+-------+-------+--------+----------+------------+----------+------------+--------------+-----------+-----------+---------------+-----------------+------+--------+--------+----------+--------+-------+----------+----------+------------+--------------------+\n",
      "only showing top 5 rows\n",
      "\n",
      "None"
     ]
    }
   ],
   "source": [
    "print(atm_trans.show(5))"
   ]
  },
  {
   "cell_type": "markdown",
   "id": "80236f3f",
   "metadata": {},
   "source": [
    "\n",
    "\n",
    "## Creating Dimension tables \n",
    "### Location Dimension: \n",
    "    - location_id : weather_city_id \n",
    "    - location : location name: weather city name\n",
    "    - street_name : atm_streetname\n",
    "    - street_number : atm_street_number\n",
    "    - atm_lat\n",
    "    - atm_lon"
   ]
  },
  {
   "cell_type": "code",
   "execution_count": 9,
   "id": "02166d91",
   "metadata": {},
   "outputs": [
    {
     "data": {
      "application/vnd.jupyter.widget-view+json": {
       "model_id": "3ca026fed5034e0990ce3b200246cb89",
       "version_major": 2,
       "version_minor": 0
      },
      "text/plain": [
       "VBox()"
      ]
     },
     "metadata": {},
     "output_type": "display_data"
    },
    {
     "data": {
      "application/vnd.jupyter.widget-view+json": {
       "model_id": "",
       "version_major": 2,
       "version_minor": 0
      },
      "text/plain": [
       "FloatProgress(value=0.0, bar_style='info', description='Progress:', layout=Layout(height='25px', width='50%'),…"
      ]
     },
     "metadata": {},
     "output_type": "display_data"
    }
   ],
   "source": [
    "location_dim = atm_trans.select(atm_trans.weather_city_id.alias(\"location_id\"),\n",
    "                               atm_trans.weather_city_name.alias(\"location\"),\n",
    "                               atm_trans.atm_streetname.alias(\"street_name\"),\n",
    "                               atm_trans.atm_street_number.alias(\"street_number\"),\n",
    "                               atm_trans.atm_zipcode.alias(\"zipcode\"),\n",
    "                               atm_trans.atm_lat.alias(\"latitude\"),\n",
    "                               atm_trans.atm_lon.alias(\"longitude\"))\n"
   ]
  },
  {
   "cell_type": "code",
   "execution_count": 10,
   "id": "96725ddc",
   "metadata": {},
   "outputs": [
    {
     "data": {
      "application/vnd.jupyter.widget-view+json": {
       "model_id": "907f199df57c4c70937166569db2e2e2",
       "version_major": 2,
       "version_minor": 0
      },
      "text/plain": [
       "VBox()"
      ]
     },
     "metadata": {},
     "output_type": "display_data"
    },
    {
     "data": {
      "application/vnd.jupyter.widget-view+json": {
       "model_id": "",
       "version_major": 2,
       "version_minor": 0
      },
      "text/plain": [
       "FloatProgress(value=0.0, bar_style='info', description='Progress:', layout=Layout(height='25px', width='50%'),…"
      ]
     },
     "metadata": {},
     "output_type": "display_data"
    },
    {
     "name": "stdout",
     "output_type": "stream",
     "text": [
      "+-----------+--------------+-------------------+-------------+-------+--------+---------+\n",
      "|location_id|      location|        street_name|street_number|zipcode|latitude|longitude|\n",
      "+-----------+--------------+-------------------+-------------+-------+--------+---------+\n",
      "|    2616038|      Naestved|        Farimagsvej|            8|   4700|  55.233|   11.763|\n",
      "|    2616235|NÃƒÂ¸rresundby|         Hadsundvej|           20|   9000|  57.043|     9.95|\n",
      "|    2616235|NÃƒÂ¸rresundby|         Hadsundvej|           20|   9000|  57.043|     9.95|\n",
      "|    2619426|         Ikast|RÃƒÂ¥dhusstrÃƒÂ¦det|           12|   7430|  56.139|    9.154|\n",
      "|    2614481|      Roskilde|       BrÃƒÂ¸nsager|            1|   4000|  55.634|   12.018|\n",
      "+-----------+--------------+-------------------+-------------+-------+--------+---------+\n",
      "only showing top 5 rows"
     ]
    }
   ],
   "source": [
    "location_dim.show(5)"
   ]
  },
  {
   "cell_type": "code",
   "execution_count": 11,
   "id": "5a637fd5",
   "metadata": {
    "scrolled": true
   },
   "outputs": [
    {
     "data": {
      "application/vnd.jupyter.widget-view+json": {
       "model_id": "e88084ff1d814f0f8b17da0f7fd20950",
       "version_major": 2,
       "version_minor": 0
      },
      "text/plain": [
       "VBox()"
      ]
     },
     "metadata": {},
     "output_type": "display_data"
    },
    {
     "data": {
      "application/vnd.jupyter.widget-view+json": {
       "model_id": "",
       "version_major": 2,
       "version_minor": 0
      },
      "text/plain": [
       "FloatProgress(value=0.0, bar_style='info', description='Progress:', layout=Layout(height='25px', width='50%'),…"
      ]
     },
     "metadata": {},
     "output_type": "display_data"
    },
    {
     "name": "stdout",
     "output_type": "stream",
     "text": [
      "2468572"
     ]
    }
   ],
   "source": [
    "location_dim.count() \n",
    "# there are around 2.5 million records, however since we derieved this information from a transaction table, there are going to be duplicates.\n"
   ]
  },
  {
   "cell_type": "code",
   "execution_count": 12,
   "id": "30da69cf",
   "metadata": {},
   "outputs": [
    {
     "data": {
      "application/vnd.jupyter.widget-view+json": {
       "model_id": "5fe0437c3e604073af01dba01281c60a",
       "version_major": 2,
       "version_minor": 0
      },
      "text/plain": [
       "VBox()"
      ]
     },
     "metadata": {},
     "output_type": "display_data"
    },
    {
     "data": {
      "application/vnd.jupyter.widget-view+json": {
       "model_id": "",
       "version_major": 2,
       "version_minor": 0
      },
      "text/plain": [
       "FloatProgress(value=0.0, bar_style='info', description='Progress:', layout=Layout(height='25px', width='50%'),…"
      ]
     },
     "metadata": {},
     "output_type": "display_data"
    }
   ],
   "source": [
    "# Checking for duplicate entries in location dimension table.\n",
    "\n",
    "## For using SQL, we need to create a temporary view,\n",
    "location_dim.createOrReplaceTempView(\"location_dim_table\")"
   ]
  },
  {
   "cell_type": "code",
   "execution_count": 13,
   "id": "e08c2a1f",
   "metadata": {},
   "outputs": [
    {
     "data": {
      "application/vnd.jupyter.widget-view+json": {
       "model_id": "7a58e61046db4af0a72416819d1acc1b",
       "version_major": 2,
       "version_minor": 0
      },
      "text/plain": [
       "VBox()"
      ]
     },
     "metadata": {},
     "output_type": "display_data"
    },
    {
     "data": {
      "application/vnd.jupyter.widget-view+json": {
       "model_id": "",
       "version_major": 2,
       "version_minor": 0
      },
      "text/plain": [
       "FloatProgress(value=0.0, bar_style='info', description='Progress:', layout=Layout(height='25px', width='50%'),…"
      ]
     },
     "metadata": {},
     "output_type": "display_data"
    },
    {
     "name": "stdout",
     "output_type": "stream",
     "text": [
      "+-----------+------+\n",
      "|location_id| count|\n",
      "+-----------+------+\n",
      "|    2624886|280276|\n",
      "|    2622447| 30741|\n",
      "|       null|  8087|\n",
      "|    2612500| 51720|\n",
      "|    2614010| 18715|\n",
      "|    2621942|  9119|\n",
      "|    2612301| 59280|\n",
      "|    2610095| 36660|\n",
      "|    2620141| 36847|\n",
      "|    2620425| 17680|\n",
      "|    2620952|105574|\n",
      "|    2616483| 18570|\n",
      "|    2620279| 36644|\n",
      "|    2614481| 69989|\n",
      "|    2610196| 16451|\n",
      "|    2619771| 26331|\n",
      "|    2621951| 22318|\n",
      "|    2617467| 48146|\n",
      "|    2624602| 36097|\n",
      "|    2625037| 38775|\n",
      "+-----------+------+\n",
      "only showing top 20 rows"
     ]
    }
   ],
   "source": [
    "spark.sql(\"SELECT location_id, count(*) as count FROM location_dim_table GROUP BY location_id\").show()"
   ]
  },
  {
   "cell_type": "code",
   "execution_count": 14,
   "id": "c1194919",
   "metadata": {},
   "outputs": [
    {
     "data": {
      "application/vnd.jupyter.widget-view+json": {
       "model_id": "545fa2b88ced40f6abfc4dc9aec15d92",
       "version_major": 2,
       "version_minor": 0
      },
      "text/plain": [
       "VBox()"
      ]
     },
     "metadata": {},
     "output_type": "display_data"
    },
    {
     "data": {
      "application/vnd.jupyter.widget-view+json": {
       "model_id": "",
       "version_major": 2,
       "version_minor": 0
      },
      "text/plain": [
       "FloatProgress(value=0.0, bar_style='info', description='Progress:', layout=Layout(height='25px', width='50%'),…"
      ]
     },
     "metadata": {},
     "output_type": "display_data"
    },
    {
     "name": "stdout",
     "output_type": "stream",
     "text": [
      "+---------------------------+\n",
      "|count(DISTINCT location_id)|\n",
      "+---------------------------+\n",
      "|                         52|\n",
      "+---------------------------+"
     ]
    }
   ],
   "source": [
    "spark.sql('SELECT COUNT(DISTINCT(location_id)) FROM location_dim_table').show()"
   ]
  },
  {
   "cell_type": "markdown",
   "id": "ee9a6529",
   "metadata": {},
   "source": [
    "Clearly, we see that there are 52 dictinct location ids(51 to be precise as NULL is also accounted) in our transaction table.\n",
    "We also have a considerable NULL records which we donot want in the location dimension table."
   ]
  },
  {
   "cell_type": "code",
   "execution_count": 15,
   "id": "8f5b8f2e",
   "metadata": {},
   "outputs": [
    {
     "data": {
      "application/vnd.jupyter.widget-view+json": {
       "model_id": "88bb960b66d8454ea88c8f1ec5713121",
       "version_major": 2,
       "version_minor": 0
      },
      "text/plain": [
       "VBox()"
      ]
     },
     "metadata": {},
     "output_type": "display_data"
    },
    {
     "data": {
      "application/vnd.jupyter.widget-view+json": {
       "model_id": "",
       "version_major": 2,
       "version_minor": 0
      },
      "text/plain": [
       "FloatProgress(value=0.0, bar_style='info', description='Progress:', layout=Layout(height='25px', width='50%'),…"
      ]
     },
     "metadata": {},
     "output_type": "display_data"
    }
   ],
   "source": [
    "location_dim_distinct = location_dim.dropDuplicates()"
   ]
  },
  {
   "cell_type": "code",
   "execution_count": 16,
   "id": "eb53bce2",
   "metadata": {},
   "outputs": [
    {
     "data": {
      "application/vnd.jupyter.widget-view+json": {
       "model_id": "610ffb140d094bb6bf8fdde14889aca8",
       "version_major": 2,
       "version_minor": 0
      },
      "text/plain": [
       "VBox()"
      ]
     },
     "metadata": {},
     "output_type": "display_data"
    },
    {
     "data": {
      "application/vnd.jupyter.widget-view+json": {
       "model_id": "",
       "version_major": 2,
       "version_minor": 0
      },
      "text/plain": [
       "FloatProgress(value=0.0, bar_style='info', description='Progress:', layout=Layout(height='25px', width='50%'),…"
      ]
     },
     "metadata": {},
     "output_type": "display_data"
    }
   ],
   "source": [
    "location_dim_distinct.createOrReplaceTempView(\"location_dim_table\")"
   ]
  },
  {
   "cell_type": "code",
   "execution_count": 17,
   "id": "933bccd8",
   "metadata": {},
   "outputs": [
    {
     "data": {
      "application/vnd.jupyter.widget-view+json": {
       "model_id": "b96614df18394b4dba71be7afc72f6a3",
       "version_major": 2,
       "version_minor": 0
      },
      "text/plain": [
       "VBox()"
      ]
     },
     "metadata": {},
     "output_type": "display_data"
    },
    {
     "data": {
      "application/vnd.jupyter.widget-view+json": {
       "model_id": "",
       "version_major": 2,
       "version_minor": 0
      },
      "text/plain": [
       "FloatProgress(value=0.0, bar_style='info', description='Progress:', layout=Layout(height='25px', width='50%'),…"
      ]
     },
     "metadata": {},
     "output_type": "display_data"
    },
    {
     "name": "stdout",
     "output_type": "stream",
     "text": [
      "+-----------+-----------------+-------+-----+\n",
      "|location_id|         location|zipcode|count|\n",
      "+-----------+-----------------+-------+-----+\n",
      "|    2624886|          Aalborg|   9000|    6|\n",
      "|    2620214|         Hjorring|   9800|    3|\n",
      "|    2612021|        Svenstrup|   9200|    2|\n",
      "|    2613460|         Slagelse|   4200|    2|\n",
      "|    2610613|            Vejle|   7100|    2|\n",
      "|    2614481|         Roskilde|   4000|    2|\n",
      "|    2615964|    Nykobing Mors|   7870|    2|\n",
      "|    2621927|    Frederikshavn|   9900|    2|\n",
      "|    2616235|   NÃƒÂ¸rresundby|   9000|    2|\n",
      "|    2620952|          Hadsund|   9560|    2|\n",
      "|    2621394|Gladsakse Kommune|   3400|    2|\n",
      "|    2624652|            Arhus|   8362|    2|\n",
      "|    2621927|    Frederikshavn|   9300|    2|\n",
      "|    2618425|       Copenhagen|   1550|    2|\n",
      "|    2624652|            Arhus|   8000|    2|\n",
      "|    2620046|        Holstebro|   7500|    1|\n",
      "|    2616483|             Nibe|   9240|    1|\n",
      "|    2620473|        Helsingor|   3000|    1|\n",
      "|    2617467|          Logstor|   9681|    1|\n",
      "|    2615964|    Nykobing Mors|   7884|    1|\n",
      "+-----------+-----------------+-------+-----+\n",
      "only showing top 20 rows"
     ]
    }
   ],
   "source": [
    "spark.sql(\"SELECT location_id,location,zipcode, count(*) as count FROM location_dim_table WHERE location_id IS NOT NULL GROUP BY location_id, location,zipcode ORDER BY COUNT(*) DESC\").show()"
   ]
  },
  {
   "cell_type": "code",
   "execution_count": 18,
   "id": "5d00feb7",
   "metadata": {},
   "outputs": [
    {
     "data": {
      "application/vnd.jupyter.widget-view+json": {
       "model_id": "0456c3aa9915429cb63cb58e8fae62a5",
       "version_major": 2,
       "version_minor": 0
      },
      "text/plain": [
       "VBox()"
      ]
     },
     "metadata": {},
     "output_type": "display_data"
    },
    {
     "data": {
      "application/vnd.jupyter.widget-view+json": {
       "model_id": "",
       "version_major": 2,
       "version_minor": 0
      },
      "text/plain": [
       "FloatProgress(value=0.0, bar_style='info', description='Progress:', layout=Layout(height='25px', width='50%'),…"
      ]
     },
     "metadata": {},
     "output_type": "display_data"
    },
    {
     "name": "stdout",
     "output_type": "stream",
     "text": [
      "+-----------+--------+------------+-------------+-------+--------+---------+\n",
      "|location_id|location| street_name|street_number|zipcode|latitude|longitude|\n",
      "+-----------+--------+------------+-------------+-------+--------+---------+\n",
      "|    2624886| Aalborg| Vestre Alle|            2|   9000|  57.034|    9.908|\n",
      "|    2624886| Aalborg|ÃƒËœsterÃƒÂ¥|           12|   9000|  57.049|    9.922|\n",
      "|    2624886| Aalborg|Europa Plads|            4|   9000|  57.044|    9.913|\n",
      "|    2624886| Aalborg| Hasserisvej|          113|   9000|  57.044|    9.898|\n",
      "|    2624886| Aalborg| Skelagervej|           15|   9000|  57.023|    9.891|\n",
      "|    2624886| Aalborg|      Torvet|            6|   9400|  57.059|    9.922|\n",
      "|    2624886| Aalborg|   Kastetvej|           36|   9000|  57.053|    9.905|\n",
      "+-----------+--------+------------+-------------+-------+--------+---------+"
     ]
    }
   ],
   "source": [
    "spark.sql(\"SELECT * FROM location_dim_table WHERE location_id = '2624886'\").show()"
   ]
  },
  {
   "cell_type": "code",
   "execution_count": 19,
   "id": "ad8ae2f8",
   "metadata": {},
   "outputs": [
    {
     "data": {
      "application/vnd.jupyter.widget-view+json": {
       "model_id": "2968b0dbb32b400582a3bd2d2714849b",
       "version_major": 2,
       "version_minor": 0
      },
      "text/plain": [
       "VBox()"
      ]
     },
     "metadata": {},
     "output_type": "display_data"
    },
    {
     "data": {
      "application/vnd.jupyter.widget-view+json": {
       "model_id": "",
       "version_major": 2,
       "version_minor": 0
      },
      "text/plain": [
       "FloatProgress(value=0.0, bar_style='info', description='Progress:', layout=Layout(height='25px', width='50%'),…"
      ]
     },
     "metadata": {},
     "output_type": "display_data"
    },
    {
     "name": "stdout",
     "output_type": "stream",
     "text": [
      "+-----------+--------+-----------+-------------+-------+--------+---------+\n",
      "|location_id|location|street_name|street_number|zipcode|latitude|longitude|\n",
      "+-----------+--------+-----------+-------------+-------+--------+---------+\n",
      "+-----------+--------+-----------+-------------+-------+--------+---------+"
     ]
    }
   ],
   "source": [
    "location_dim_distinct.filter(location_dim_distinct.location_id =='null').show()\n",
    "#dataframe.filter(dataframe.college != \"IIT\""
   ]
  },
  {
   "cell_type": "code",
   "execution_count": 20,
   "id": "35b70689",
   "metadata": {},
   "outputs": [
    {
     "data": {
      "application/vnd.jupyter.widget-view+json": {
       "model_id": "677368eefb2c47c0a61c6007a54ebe0e",
       "version_major": 2,
       "version_minor": 0
      },
      "text/plain": [
       "VBox()"
      ]
     },
     "metadata": {},
     "output_type": "display_data"
    },
    {
     "data": {
      "application/vnd.jupyter.widget-view+json": {
       "model_id": "",
       "version_major": 2,
       "version_minor": 0
      },
      "text/plain": [
       "FloatProgress(value=0.0, bar_style='info', description='Progress:', layout=Layout(height='25px', width='50%'),…"
      ]
     },
     "metadata": {},
     "output_type": "display_data"
    },
    {
     "name": "stdout",
     "output_type": "stream",
     "text": [
      "+-----------+--------------+-----------------+-------------+-------+--------+---------+\n",
      "|location_id|location      |street_name      |street_number|zipcode|latitude|longitude|\n",
      "+-----------+--------------+-----------------+-------------+-------+--------+---------+\n",
      "|2620214    |Hjorring      |ÃƒËœstergade     |8            |9800   |57.459  |9.988    |\n",
      "|2622310    |Farso         |Torvet           |8            |9640   |56.771  |9.34     |\n",
      "|null       |null          |Slotsvolden      |7            |4300   |55.718  |11.704   |\n",
      "|null       |null          |NÃƒÂ¸rrebro      |18           |9881   |57.541  |10.2     |\n",
      "|null       |null          |KÃƒÂ¸benhavnsvej |31           |3400   |55.933  |12.314   |\n",
      "|2618425    |Copenhagen    |Regnbuepladsen   |5            |1550   |55.676  |12.571   |\n",
      "|null       |null          |Hostrupsvej      |6            |7500   |56.373  |8.625    |\n",
      "|null       |null          |GodthÃƒÂ¥bsvej   |14           |9230   |56.973  |9.851    |\n",
      "|null       |null          |Sct. Laurentiivej|36           |9990   |57.723  |10.59    |\n",
      "|2613460    |Slagelse      |Mariendals Alle  |29           |4200   |55.398  |11.342   |\n",
      "|2618528    |Kolding       |Vejlevej         |135          |6000   |55.505  |9.457    |\n",
      "|2620952    |Hadsund       |Bymidten         |2            |9575   |56.815  |10.057   |\n",
      "|2624886    |Aalborg       |Vestre Alle      |2            |9000   |57.034  |9.908    |\n",
      "|2618468    |Kongens Lyngby|Jernbanevej      |6            |2800   |55.772  |12.5     |\n",
      "|null       |null          |ÃƒËœstergade     |6            |9440   |57.162  |9.73     |\n",
      "|2612045    |Svendborg     |Vestergade       |35           |5800   |55.318  |10.781   |\n",
      "|2612274    |Strandby      |Centralvej       |5            |9982   |57.593  |10.412   |\n",
      "|2620425    |Herning       |Dalgasgade       |30           |7400   |56.135  |8.971    |\n",
      "|null       |null          |StenÃƒÂ¸re       |19           |7884   |56.805  |9.02     |\n",
      "|null       |null          |Borgergade       |36           |8600   |56.179  |9.552    |\n",
      "+-----------+--------------+-----------------+-------------+-------+--------+---------+\n",
      "only showing top 20 rows"
     ]
    }
   ],
   "source": [
    "# There are many null values in the rows of our dataset, checking the percentage of NULLs\n",
    "\n",
    "location_dim_distinct.show(truncate = False)\n",
    "# Since Location ID is our key in the dimensional model we have to remove the nulls"
   ]
  },
  {
   "cell_type": "code",
   "execution_count": 21,
   "id": "ead35fb8",
   "metadata": {},
   "outputs": [
    {
     "data": {
      "application/vnd.jupyter.widget-view+json": {
       "model_id": "c541a532985e4ea58aac9e66bc60d7d2",
       "version_major": 2,
       "version_minor": 0
      },
      "text/plain": [
       "VBox()"
      ]
     },
     "metadata": {},
     "output_type": "display_data"
    },
    {
     "data": {
      "application/vnd.jupyter.widget-view+json": {
       "model_id": "",
       "version_major": 2,
       "version_minor": 0
      },
      "text/plain": [
       "FloatProgress(value=0.0, bar_style='info', description='Progress:', layout=Layout(height='25px', width='50%'),…"
      ]
     },
     "metadata": {},
     "output_type": "display_data"
    }
   ],
   "source": [
    "# Removing the Rows containing nulls\n",
    "location_dim_distinct_not_null = location_dim_distinct.na.drop(how = 'any' )"
   ]
  },
  {
   "cell_type": "code",
   "execution_count": 22,
   "id": "9a911411",
   "metadata": {},
   "outputs": [
    {
     "data": {
      "application/vnd.jupyter.widget-view+json": {
       "model_id": "50f6514f3d724a248eaac26ead8480cc",
       "version_major": 2,
       "version_minor": 0
      },
      "text/plain": [
       "VBox()"
      ]
     },
     "metadata": {},
     "output_type": "display_data"
    },
    {
     "data": {
      "application/vnd.jupyter.widget-view+json": {
       "model_id": "",
       "version_major": 2,
       "version_minor": 0
      },
      "text/plain": [
       "FloatProgress(value=0.0, bar_style='info', description='Progress:', layout=Layout(height='25px', width='50%'),…"
      ]
     },
     "metadata": {},
     "output_type": "display_data"
    },
    {
     "name": "stdout",
     "output_type": "stream",
     "text": [
      "+-----------+-----------------+----------------+-------------+-------+--------+---------+\n",
      "|location_id|location         |street_name     |street_number|zipcode|latitude|longitude|\n",
      "+-----------+-----------------+----------------+-------------+-------+--------+---------+\n",
      "|2620214    |Hjorring         |ÃƒËœstergade    |8            |9800   |57.459  |9.988    |\n",
      "|2622310    |Farso            |Torvet          |8            |9640   |56.771  |9.34     |\n",
      "|2618425    |Copenhagen       |Regnbuepladsen  |5            |1550   |55.676  |12.571   |\n",
      "|2613460    |Slagelse         |Mariendals Alle |29           |4200   |55.398  |11.342   |\n",
      "|2618528    |Kolding          |Vejlevej        |135          |6000   |55.505  |9.457    |\n",
      "|2620952    |Hadsund          |Bymidten        |2            |9575   |56.815  |10.057   |\n",
      "|2624886    |Aalborg          |Vestre Alle     |2            |9000   |57.034  |9.908    |\n",
      "|2618468    |Kongens Lyngby   |Jernbanevej     |6            |2800   |55.772  |12.5     |\n",
      "|2612045    |Svendborg        |Vestergade      |35           |5800   |55.318  |10.781   |\n",
      "|2612274    |Strandby         |Centralvej      |5            |9982   |57.593  |10.412   |\n",
      "|2620425    |Herning          |Dalgasgade      |30           |7400   |56.135  |8.971    |\n",
      "|2621394    |Gladsakse Kommune|KÃƒÂ¸benhavnsvej|31           |3400   |55.933  |12.314   |\n",
      "|2624886    |Aalborg          |ÃƒËœsterÃƒÂ¥    |12           |9000   |57.049  |9.922    |\n",
      "|2612021    |Svenstrup        |Hobrovej        |452          |9200   |57.005  |9.876    |\n",
      "|2615964    |Nykobing Mors    |Torvet          |4            |7870   |56.745  |8.949    |\n",
      "|2610823    |Vadum            |Ellehammersvej  |43           |9430   |57.118  |9.861    |\n",
      "|2616235    |NÃƒÂ¸rresundby   |Kjellerups Torv |1            |9000   |57.047  |9.932    |\n",
      "|2621218    |Greve Kommune    |SÃƒÂ¸ndre Alle  |1            |4600   |55.454  |12.181   |\n",
      "|2616235    |NÃƒÂ¸rresundby   |Hadsundvej      |20           |9000   |57.043  |9.95     |\n",
      "|2620952    |Hadsund          |Storegade       |12           |9560   |56.716  |10.114   |\n",
      "+-----------+-----------------+----------------+-------------+-------+--------+---------+\n",
      "only showing top 20 rows"
     ]
    }
   ],
   "source": [
    "location_dim_distinct_not_null.show(truncate = False)"
   ]
  },
  {
   "cell_type": "code",
   "execution_count": 23,
   "id": "7f6b16de",
   "metadata": {},
   "outputs": [
    {
     "data": {
      "application/vnd.jupyter.widget-view+json": {
       "model_id": "cfefbe45b4804f57b118a881881bdfa5",
       "version_major": 2,
       "version_minor": 0
      },
      "text/plain": [
       "VBox()"
      ]
     },
     "metadata": {},
     "output_type": "display_data"
    },
    {
     "data": {
      "application/vnd.jupyter.widget-view+json": {
       "model_id": "",
       "version_major": 2,
       "version_minor": 0
      },
      "text/plain": [
       "FloatProgress(value=0.0, bar_style='info', description='Progress:', layout=Layout(height='25px', width='50%'),…"
      ]
     },
     "metadata": {},
     "output_type": "display_data"
    }
   ],
   "source": [
    "location_dim_distinct_not_null.createOrReplaceTempView(\"location_dim_table\")"
   ]
  },
  {
   "cell_type": "code",
   "execution_count": 24,
   "id": "2ff03c6b",
   "metadata": {},
   "outputs": [
    {
     "data": {
      "application/vnd.jupyter.widget-view+json": {
       "model_id": "c4558f9aad434eb4bb03d2b0f309add0",
       "version_major": 2,
       "version_minor": 0
      },
      "text/plain": [
       "VBox()"
      ]
     },
     "metadata": {},
     "output_type": "display_data"
    },
    {
     "data": {
      "application/vnd.jupyter.widget-view+json": {
       "model_id": "",
       "version_major": 2,
       "version_minor": 0
      },
      "text/plain": [
       "FloatProgress(value=0.0, bar_style='info', description='Progress:', layout=Layout(height='25px', width='50%'),…"
      ]
     },
     "metadata": {},
     "output_type": "display_data"
    },
    {
     "name": "stdout",
     "output_type": "stream",
     "text": [
      "+-----------+-----------------+-------+-----+\n",
      "|location_id|         location|zipcode|count|\n",
      "+-----------+-----------------+-------+-----+\n",
      "|    2624886|          Aalborg|   9000|    6|\n",
      "|    2620214|         Hjorring|   9800|    3|\n",
      "|    2624652|            Arhus|   8000|    2|\n",
      "|    2610613|            Vejle|   7100|    2|\n",
      "|    2616235|   NÃƒÂ¸rresundby|   9000|    2|\n",
      "|    2621927|    Frederikshavn|   9300|    2|\n",
      "|    2615964|    Nykobing Mors|   7870|    2|\n",
      "|    2621927|    Frederikshavn|   9900|    2|\n",
      "|    2624652|            Arhus|   8362|    2|\n",
      "|    2621394|Gladsakse Kommune|   3400|    2|\n",
      "|    2618425|       Copenhagen|   1550|    2|\n",
      "|    2614481|         Roskilde|   4000|    2|\n",
      "|    2612021|        Svenstrup|   9200|    2|\n",
      "|    2613460|         Slagelse|   4200|    2|\n",
      "|    2620952|          Hadsund|   9560|    2|\n",
      "|    2624652|            Arhus|   8270|    1|\n",
      "|    2616483|             Nibe|   9240|    1|\n",
      "|    2614010|           Sindal|   9881|    1|\n",
      "|    2610823|            Vadum|   9430|    1|\n",
      "|    2617467|          Logstor|   9681|    1|\n",
      "+-----------+-----------------+-------+-----+\n",
      "only showing top 20 rows"
     ]
    }
   ],
   "source": [
    "spark.sql(\"SELECT location_id,location,zipcode, count(*) as count FROM location_dim_table WHERE location_id IS NOT NULL GROUP BY location_id, location,zipcode ORDER BY COUNT(*) DESC\").show()"
   ]
  },
  {
   "cell_type": "markdown",
   "id": "8c01ba84",
   "metadata": {},
   "source": [
    "**There are still location ids which have multiple values like:**\n",
    "\n",
    "    2624886,\n",
    "    2620214,\n",
    "    2615964,\n",
    "    2613460,\n",
    "    2620952,\n",
    "    2621394,\n",
    "    2616235,\n",
    "    2621927,\n",
    "    2610613,\n",
    "    2624652,\n",
    "    2618425,\n",
    "    2621927,\n",
    "    2614481,\n",
    "    2612021,\n",
    "    2624652\n",
    "\n"
   ]
  },
  {
   "cell_type": "code",
   "execution_count": 25,
   "id": "103033bb",
   "metadata": {},
   "outputs": [
    {
     "data": {
      "application/vnd.jupyter.widget-view+json": {
       "model_id": "2463fdb6efca4543a958196e54bacff0",
       "version_major": 2,
       "version_minor": 0
      },
      "text/plain": [
       "VBox()"
      ]
     },
     "metadata": {},
     "output_type": "display_data"
    },
    {
     "data": {
      "application/vnd.jupyter.widget-view+json": {
       "model_id": "",
       "version_major": 2,
       "version_minor": 0
      },
      "text/plain": [
       "FloatProgress(value=0.0, bar_style='info', description='Progress:', layout=Layout(height='25px', width='50%'),…"
      ]
     },
     "metadata": {},
     "output_type": "display_data"
    },
    {
     "name": "stdout",
     "output_type": "stream",
     "text": [
      "+-----------+--------+------------+-------------+-------+--------+---------+\n",
      "|location_id|location| street_name|street_number|zipcode|latitude|longitude|\n",
      "+-----------+--------+------------+-------------+-------+--------+---------+\n",
      "|    2624886| Aalborg| Vestre Alle|            2|   9000|  57.034|    9.908|\n",
      "|    2624886| Aalborg|ÃƒËœsterÃƒÂ¥|           12|   9000|  57.049|    9.922|\n",
      "|    2624886| Aalborg|Europa Plads|            4|   9000|  57.044|    9.913|\n",
      "|    2624886| Aalborg| Hasserisvej|          113|   9000|  57.044|    9.898|\n",
      "|    2624886| Aalborg| Skelagervej|           15|   9000|  57.023|    9.891|\n",
      "|    2624886| Aalborg|      Torvet|            6|   9400|  57.059|    9.922|\n",
      "|    2624886| Aalborg|   Kastetvej|           36|   9000|  57.053|    9.905|\n",
      "+-----------+--------+------------+-------------+-------+--------+---------+"
     ]
    }
   ],
   "source": [
    "spark.sql(\"SELECT * FROM location_dim_table WHERE location_id in (2624886)\").show()"
   ]
  },
  {
   "cell_type": "markdown",
   "id": "4dd4a08f",
   "metadata": {},
   "source": [
    "**Observations :**\n",
    "* We can see from the data that there are multiple street_names in a particular location and as per schema we cannot have location_id as a primary key, we can have it as non nullable key.\n",
    "\n",
    "* For Primary Key, more ideal would be to have a composite key made of : location_id,loaction,street_number."
   ]
  },
  {
   "cell_type": "code",
   "execution_count": 26,
   "id": "3aaaebc0",
   "metadata": {},
   "outputs": [
    {
     "data": {
      "application/vnd.jupyter.widget-view+json": {
       "model_id": "1d28f6bf5244478ca2141658fec4e961",
       "version_major": 2,
       "version_minor": 0
      },
      "text/plain": [
       "VBox()"
      ]
     },
     "metadata": {},
     "output_type": "display_data"
    },
    {
     "data": {
      "application/vnd.jupyter.widget-view+json": {
       "model_id": "",
       "version_major": 2,
       "version_minor": 0
      },
      "text/plain": [
       "FloatProgress(value=0.0, bar_style='info', description='Progress:', layout=Layout(height='25px', width='50%'),…"
      ]
     },
     "metadata": {},
     "output_type": "display_data"
    }
   ],
   "source": [
    "# Storing the final location_dim_distinct_not_null dataframe as Location_dim\n",
    "location_dim = location_dim_distinct_not_null"
   ]
  },
  {
   "cell_type": "code",
   "execution_count": 27,
   "id": "e4aa1f94",
   "metadata": {},
   "outputs": [
    {
     "data": {
      "application/vnd.jupyter.widget-view+json": {
       "model_id": "e14beb73ebc84c5a9397e7221e91668a",
       "version_major": 2,
       "version_minor": 0
      },
      "text/plain": [
       "VBox()"
      ]
     },
     "metadata": {},
     "output_type": "display_data"
    },
    {
     "data": {
      "application/vnd.jupyter.widget-view+json": {
       "model_id": "",
       "version_major": 2,
       "version_minor": 0
      },
      "text/plain": [
       "FloatProgress(value=0.0, bar_style='info', description='Progress:', layout=Layout(height='25px', width='50%'),…"
      ]
     },
     "metadata": {},
     "output_type": "display_data"
    },
    {
     "name": "stdout",
     "output_type": "stream",
     "text": [
      "== Physical Plan ==\n",
      "AdaptiveSparkPlan(isFinalPlan=false)\n",
      "+- HashAggregate(keys=[zipcode#326, location#323, latitude#327, longitude#328, street_name#324, location_id#322, street_number#325], functions=[])\n",
      "   +- Exchange hashpartitioning(zipcode#326, location#323, latitude#327, longitude#328, street_name#324, location_id#322, street_number#325, 1000)\n",
      "      +- HashAggregate(keys=[zipcode#326, location#323, latitude#327, longitude#328, street_name#324, location_id#322, street_number#325], functions=[])\n",
      "         +- Project [weather_city_id#139 AS location_id#322, weather_city_name#140 AS location#323, atm_streetname#126 AS street_name#324, atm_street_number#127 AS street_number#325, atm_zipcode#128 AS zipcode#326, atm_lat#129 AS latitude#327, atm_lon#130 AS longitude#328]\n",
      "            +- Filter AtLeastNNulls(n, weather_city_id#139,weather_city_name#140,atm_streetname#126,atm_street_number#127,atm_zipcode#128,atm_lat#129,atm_lon#130)\n",
      "               +- FileScan csv [atm_streetname#126,atm_street_number#127,atm_zipcode#128,atm_lat#129,atm_lon#130,weather_city_id#139,weather_city_name#140] Batched: false, Format: CSV, Location: InMemoryFileIndex[hdfs://ip-10-0-0-157.ec2.internal:8020/home/hadoop/ETL_Project_SRC_data], PartitionFilters: [], PushedFilters: [], ReadSchema: struct<atm_streetname:string,atm_street_number:int,atm_zipcode:int,atm_lat:double,atm_lon:double,..."
     ]
    }
   ],
   "source": [
    "location_dim.explain()"
   ]
  },
  {
   "cell_type": "markdown",
   "id": "f4de5683",
   "metadata": {},
   "source": [
    "### * Date Dimension:\n",
    "    - date_id : year +month+day\n",
    "    - full_date_time\n",
    "    - year : year\n",
    "    - month : month\n",
    "    - day : day\n",
    "    - Weekday: weekday\n",
    "    \n",
    "Date_id needs to be a derieved column in Source_table and same in Dimension table so we can perform join on that column.\n",
    "year+month+day could be a good candidate for it:\n",
    " - Create a date_id in source table by combining year + month + day\n",
    " - converting the resulting date_id column to DATETIME format."
   ]
  },
  {
   "cell_type": "code",
   "execution_count": 28,
   "id": "75ce8dd0",
   "metadata": {},
   "outputs": [
    {
     "data": {
      "application/vnd.jupyter.widget-view+json": {
       "model_id": "a2c843113bcc4e0c85756b68000facb9",
       "version_major": 2,
       "version_minor": 0
      },
      "text/plain": [
       "VBox()"
      ]
     },
     "metadata": {},
     "output_type": "display_data"
    },
    {
     "data": {
      "application/vnd.jupyter.widget-view+json": {
       "model_id": "",
       "version_major": 2,
       "version_minor": 0
      },
      "text/plain": [
       "FloatProgress(value=0.0, bar_style='info', description='Progress:', layout=Layout(height='25px', width='50%'),…"
      ]
     },
     "metadata": {},
     "output_type": "display_data"
    }
   ],
   "source": [
    "from pyspark.sql.functions import concat,lit\n",
    "\n",
    "atm_trans = atm_trans.withColumn(\"date_id\", concat(atm_trans.year,lit('/'),atm_trans.month[0:3],lit('/'),atm_trans.day))"
   ]
  },
  {
   "cell_type": "code",
   "execution_count": 29,
   "id": "20097f2a",
   "metadata": {},
   "outputs": [
    {
     "data": {
      "application/vnd.jupyter.widget-view+json": {
       "model_id": "268bd5fe48784267a4041b24012f3f47",
       "version_major": 2,
       "version_minor": 0
      },
      "text/plain": [
       "VBox()"
      ]
     },
     "metadata": {},
     "output_type": "display_data"
    },
    {
     "data": {
      "application/vnd.jupyter.widget-view+json": {
       "model_id": "",
       "version_major": 2,
       "version_minor": 0
      },
      "text/plain": [
       "FloatProgress(value=0.0, bar_style='info', description='Progress:', layout=Layout(height='25px', width='50%'),…"
      ]
     },
     "metadata": {},
     "output_type": "display_data"
    },
    {
     "name": "stdout",
     "output_type": "stream",
     "text": [
      "root\n",
      " |-- year: integer (nullable = true)\n",
      " |-- month: string (nullable = true)\n",
      " |-- day: integer (nullable = true)\n",
      " |-- weekday: string (nullable = true)\n",
      " |-- hour: integer (nullable = true)\n",
      " |-- atm_status: string (nullable = true)\n",
      " |-- atm_id: integer (nullable = true)\n",
      " |-- atm_manufacturer: string (nullable = true)\n",
      " |-- atm_location: string (nullable = true)\n",
      " |-- atm_streetname: string (nullable = true)\n",
      " |-- atm_street_number: integer (nullable = true)\n",
      " |-- atm_zipcode: integer (nullable = true)\n",
      " |-- atm_lat: double (nullable = true)\n",
      " |-- atm_lon: double (nullable = true)\n",
      " |-- currency: string (nullable = true)\n",
      " |-- card_type: string (nullable = true)\n",
      " |-- message_code: string (nullable = true)\n",
      " |-- service: string (nullable = true)\n",
      " |-- message_text: string (nullable = true)\n",
      " |-- message_text_1: string (nullable = true)\n",
      " |-- weather_lat: double (nullable = true)\n",
      " |-- weather_lon: double (nullable = true)\n",
      " |-- weather_city_id: integer (nullable = true)\n",
      " |-- weather_city_name: string (nullable = true)\n",
      " |-- temp: double (nullable = true)\n",
      " |-- pressure: integer (nullable = true)\n",
      " |-- humidity: integer (nullable = true)\n",
      " |-- wind_speed: integer (nullable = true)\n",
      " |-- wind_deg: integer (nullable = true)\n",
      " |-- rain_3h: double (nullable = true)\n",
      " |-- clouds_all: integer (nullable = true)\n",
      " |-- weather_id: integer (nullable = true)\n",
      " |-- weather_main: string (nullable = true)\n",
      " |-- weather_description: string (nullable = true)\n",
      " |-- date_id: string (nullable = true)"
     ]
    }
   ],
   "source": [
    "atm_trans.printSchema()"
   ]
  },
  {
   "cell_type": "code",
   "execution_count": 30,
   "id": "0ea601f4",
   "metadata": {},
   "outputs": [
    {
     "data": {
      "application/vnd.jupyter.widget-view+json": {
       "model_id": "3ca17a5dd5e241fe929ef659b24966e9",
       "version_major": 2,
       "version_minor": 0
      },
      "text/plain": [
       "VBox()"
      ]
     },
     "metadata": {},
     "output_type": "display_data"
    },
    {
     "data": {
      "application/vnd.jupyter.widget-view+json": {
       "model_id": "",
       "version_major": 2,
       "version_minor": 0
      },
      "text/plain": [
       "FloatProgress(value=0.0, bar_style='info', description='Progress:', layout=Layout(height='25px', width='50%'),…"
      ]
     },
     "metadata": {},
     "output_type": "display_data"
    },
    {
     "name": "stdout",
     "output_type": "stream",
     "text": [
      "[('date_id', 'string')]"
     ]
    }
   ],
   "source": [
    "atm_trans.select(\"date_id\").dtypes"
   ]
  },
  {
   "cell_type": "code",
   "execution_count": 31,
   "id": "243a5474",
   "metadata": {},
   "outputs": [
    {
     "data": {
      "application/vnd.jupyter.widget-view+json": {
       "model_id": "0aaed089ffb441c58a0aa69204acf9a4",
       "version_major": 2,
       "version_minor": 0
      },
      "text/plain": [
       "VBox()"
      ]
     },
     "metadata": {},
     "output_type": "display_data"
    },
    {
     "data": {
      "application/vnd.jupyter.widget-view+json": {
       "model_id": "",
       "version_major": 2,
       "version_minor": 0
      },
      "text/plain": [
       "FloatProgress(value=0.0, bar_style='info', description='Progress:', layout=Layout(height='25px', width='50%'),…"
      ]
     },
     "metadata": {},
     "output_type": "display_data"
    },
    {
     "name": "stdout",
     "output_type": "stream",
     "text": [
      "+----------+\n",
      "|date_id   |\n",
      "+----------+\n",
      "|2017/Jan/1|\n",
      "|2017/Jan/1|\n",
      "|2017/Jan/1|\n",
      "|2017/Jan/1|\n",
      "+----------+\n",
      "only showing top 4 rows"
     ]
    }
   ],
   "source": [
    "atm_trans.select('date_id').show(4,truncate = False)"
   ]
  },
  {
   "cell_type": "code",
   "execution_count": 32,
   "id": "c3c04de0",
   "metadata": {},
   "outputs": [
    {
     "data": {
      "application/vnd.jupyter.widget-view+json": {
       "model_id": "6aeeb99f767f46fc8f6603678fd1e294",
       "version_major": 2,
       "version_minor": 0
      },
      "text/plain": [
       "VBox()"
      ]
     },
     "metadata": {},
     "output_type": "display_data"
    },
    {
     "data": {
      "application/vnd.jupyter.widget-view+json": {
       "model_id": "",
       "version_major": 2,
       "version_minor": 0
      },
      "text/plain": [
       "FloatProgress(value=0.0, bar_style='info', description='Progress:', layout=Layout(height='25px', width='50%'),…"
      ]
     },
     "metadata": {},
     "output_type": "display_data"
    },
    {
     "name": "stdout",
     "output_type": "stream",
     "text": [
      "root\n",
      " |-- year: integer (nullable = true)\n",
      " |-- month: string (nullable = true)\n",
      " |-- day: integer (nullable = true)\n",
      " |-- weekday: string (nullable = true)\n",
      " |-- hour: integer (nullable = true)\n",
      " |-- atm_status: string (nullable = true)\n",
      " |-- atm_id: integer (nullable = true)\n",
      " |-- atm_manufacturer: string (nullable = true)\n",
      " |-- atm_location: string (nullable = true)\n",
      " |-- atm_streetname: string (nullable = true)\n",
      " |-- atm_street_number: integer (nullable = true)\n",
      " |-- atm_zipcode: integer (nullable = true)\n",
      " |-- atm_lat: double (nullable = true)\n",
      " |-- atm_lon: double (nullable = true)\n",
      " |-- currency: string (nullable = true)\n",
      " |-- card_type: string (nullable = true)\n",
      " |-- message_code: string (nullable = true)\n",
      " |-- service: string (nullable = true)\n",
      " |-- message_text: string (nullable = true)\n",
      " |-- message_text_1: string (nullable = true)\n",
      " |-- weather_lat: double (nullable = true)\n",
      " |-- weather_lon: double (nullable = true)\n",
      " |-- weather_city_id: integer (nullable = true)\n",
      " |-- weather_city_name: string (nullable = true)\n",
      " |-- temp: double (nullable = true)\n",
      " |-- pressure: integer (nullable = true)\n",
      " |-- humidity: integer (nullable = true)\n",
      " |-- wind_speed: integer (nullable = true)\n",
      " |-- wind_deg: integer (nullable = true)\n",
      " |-- rain_3h: double (nullable = true)\n",
      " |-- clouds_all: integer (nullable = true)\n",
      " |-- weather_id: integer (nullable = true)\n",
      " |-- weather_main: string (nullable = true)\n",
      " |-- weather_description: string (nullable = true)\n",
      " |-- date_id: date (nullable = true)\n",
      "\n",
      "[('date_id', 'date')]"
     ]
    }
   ],
   "source": [
    "# Convert String to Date Object:\n",
    "from pyspark.sql.functions import to_date,to_timestamp,col\n",
    "\n",
    "atm_trans = atm_trans.withColumn('date_id',to_date(col(\"date_id\"),\"yyyy/MMM/dd\"))\n",
    "\n",
    "atm_trans.printSchema()\n",
    "atm_trans.select(\"date_id\").dtypes"
   ]
  },
  {
   "cell_type": "code",
   "execution_count": 33,
   "id": "8ec72b7e",
   "metadata": {},
   "outputs": [
    {
     "data": {
      "application/vnd.jupyter.widget-view+json": {
       "model_id": "81011b884cab4b8eba24daf2b5b9f3c5",
       "version_major": 2,
       "version_minor": 0
      },
      "text/plain": [
       "VBox()"
      ]
     },
     "metadata": {},
     "output_type": "display_data"
    },
    {
     "data": {
      "application/vnd.jupyter.widget-view+json": {
       "model_id": "",
       "version_major": 2,
       "version_minor": 0
      },
      "text/plain": [
       "FloatProgress(value=0.0, bar_style='info', description='Progress:', layout=Layout(height='25px', width='50%'),…"
      ]
     },
     "metadata": {},
     "output_type": "display_data"
    },
    {
     "name": "stdout",
     "output_type": "stream",
     "text": [
      "+----------+\n",
      "|date_id   |\n",
      "+----------+\n",
      "|2017-01-01|\n",
      "|2017-01-01|\n",
      "|2017-01-01|\n",
      "|2017-01-01|\n",
      "+----------+\n",
      "only showing top 4 rows"
     ]
    }
   ],
   "source": [
    "atm_trans.select('date_id').show(4,truncate = False)"
   ]
  },
  {
   "cell_type": "code",
   "execution_count": 34,
   "id": "2c145f51",
   "metadata": {},
   "outputs": [
    {
     "data": {
      "application/vnd.jupyter.widget-view+json": {
       "model_id": "470f596a16644fc8b04707c777e00340",
       "version_major": 2,
       "version_minor": 0
      },
      "text/plain": [
       "VBox()"
      ]
     },
     "metadata": {},
     "output_type": "display_data"
    },
    {
     "data": {
      "application/vnd.jupyter.widget-view+json": {
       "model_id": "",
       "version_major": 2,
       "version_minor": 0
      },
      "text/plain": [
       "FloatProgress(value=0.0, bar_style='info', description='Progress:', layout=Layout(height='25px', width='50%'),…"
      ]
     },
     "metadata": {},
     "output_type": "display_data"
    }
   ],
   "source": [
    "# Creating Date Dimension:\n",
    "\n",
    "date_dim = atm_trans.select(atm_trans.date_id .alias(\"date_id\"),\n",
    "                               atm_trans.year.alias(\"year\"),\n",
    "                               atm_trans.month.alias(\"month\"),\n",
    "                               atm_trans.day.alias(\"day\"),\n",
    "                               atm_trans.weekday.alias(\"weekday\"),\n",
    "                               atm_trans.hour.alias(\"hour\"))\n",
    "                               \n"
   ]
  },
  {
   "cell_type": "code",
   "execution_count": 35,
   "id": "45df4ae7",
   "metadata": {},
   "outputs": [
    {
     "data": {
      "application/vnd.jupyter.widget-view+json": {
       "model_id": "de6685fb06474f52b48cd79949bc5db8",
       "version_major": 2,
       "version_minor": 0
      },
      "text/plain": [
       "VBox()"
      ]
     },
     "metadata": {},
     "output_type": "display_data"
    },
    {
     "data": {
      "application/vnd.jupyter.widget-view+json": {
       "model_id": "",
       "version_major": 2,
       "version_minor": 0
      },
      "text/plain": [
       "FloatProgress(value=0.0, bar_style='info', description='Progress:', layout=Layout(height='25px', width='50%'),…"
      ]
     },
     "metadata": {},
     "output_type": "display_data"
    }
   ],
   "source": [
    "date_dim = date_dim.dropDuplicates()"
   ]
  },
  {
   "cell_type": "code",
   "execution_count": 36,
   "id": "96513c20",
   "metadata": {},
   "outputs": [
    {
     "data": {
      "application/vnd.jupyter.widget-view+json": {
       "model_id": "6535e74f48c04d9eaf8b9874600da5cb",
       "version_major": 2,
       "version_minor": 0
      },
      "text/plain": [
       "VBox()"
      ]
     },
     "metadata": {},
     "output_type": "display_data"
    },
    {
     "data": {
      "application/vnd.jupyter.widget-view+json": {
       "model_id": "",
       "version_major": 2,
       "version_minor": 0
      },
      "text/plain": [
       "FloatProgress(value=0.0, bar_style='info', description='Progress:', layout=Layout(height='25px', width='50%'),…"
      ]
     },
     "metadata": {},
     "output_type": "display_data"
    },
    {
     "name": "stdout",
     "output_type": "stream",
     "text": [
      "+----------+----+--------+---+---------+----+\n",
      "|   date_id|year|   month|day|  weekday|hour|\n",
      "+----------+----+--------+---+---------+----+\n",
      "|2017-01-11|2017| January| 11|Wednesday|  23|\n",
      "|2017-01-06|2017| January|  6|   Friday|  11|\n",
      "|2017-02-17|2017|February| 17|   Friday|   2|\n",
      "|2017-01-29|2017| January| 29|   Sunday|   5|\n",
      "|2017-01-05|2017| January|  5| Thursday|  11|\n",
      "|2017-02-02|2017|February|  2| Thursday|   1|\n",
      "|2017-02-20|2017|February| 20|   Monday|   2|\n",
      "|2017-01-09|2017| January|  9|   Monday|   5|\n",
      "|2017-01-10|2017| January| 10|  Tuesday|  13|\n",
      "|2017-02-19|2017|February| 19|   Sunday|  10|\n",
      "|2017-02-01|2017|February|  1|Wednesday|   5|\n",
      "|2017-01-25|2017| January| 25|Wednesday|   4|\n",
      "|2017-02-03|2017|February|  3|   Friday|  15|\n",
      "|2017-01-28|2017| January| 28| Saturday|   6|\n",
      "|2017-01-30|2017| January| 30|   Monday|  19|\n",
      "|2017-01-20|2017| January| 20|   Friday|  15|\n",
      "|2017-01-04|2017| January|  4|Wednesday|  13|\n",
      "|2017-01-06|2017| January|  6|   Friday|  17|\n",
      "|2017-02-12|2017|February| 12|   Sunday|   5|\n",
      "|2017-01-15|2017| January| 15|   Sunday|   9|\n",
      "+----------+----+--------+---+---------+----+\n",
      "only showing top 20 rows"
     ]
    }
   ],
   "source": [
    "date_dim.show()"
   ]
  },
  {
   "cell_type": "code",
   "execution_count": 37,
   "id": "5e358463",
   "metadata": {},
   "outputs": [
    {
     "data": {
      "application/vnd.jupyter.widget-view+json": {
       "model_id": "f3806257ffe14cadab270a520fe43df7",
       "version_major": 2,
       "version_minor": 0
      },
      "text/plain": [
       "VBox()"
      ]
     },
     "metadata": {},
     "output_type": "display_data"
    },
    {
     "data": {
      "application/vnd.jupyter.widget-view+json": {
       "model_id": "",
       "version_major": 2,
       "version_minor": 0
      },
      "text/plain": [
       "FloatProgress(value=0.0, bar_style='info', description='Progress:', layout=Layout(height='25px', width='50%'),…"
      ]
     },
     "metadata": {},
     "output_type": "display_data"
    }
   ],
   "source": [
    "## For using SQL, we need to create a temporary view,\n",
    "date_dim.createOrReplaceTempView(\"date_dim_table\")"
   ]
  },
  {
   "cell_type": "code",
   "execution_count": 38,
   "id": "969029af",
   "metadata": {},
   "outputs": [
    {
     "data": {
      "application/vnd.jupyter.widget-view+json": {
       "model_id": "deb3e1571e5b431e8078b20a1a00c2f3",
       "version_major": 2,
       "version_minor": 0
      },
      "text/plain": [
       "VBox()"
      ]
     },
     "metadata": {},
     "output_type": "display_data"
    },
    {
     "data": {
      "application/vnd.jupyter.widget-view+json": {
       "model_id": "",
       "version_major": 2,
       "version_minor": 0
      },
      "text/plain": [
       "FloatProgress(value=0.0, bar_style='info', description='Progress:', layout=Layout(height='25px', width='50%'),…"
      ]
     },
     "metadata": {},
     "output_type": "display_data"
    },
    {
     "name": "stdout",
     "output_type": "stream",
     "text": [
      "+----------+--------+\n",
      "|   date_id|count(1)|\n",
      "+----------+--------+\n",
      "|2017-11-04|      24|\n",
      "|2017-08-09|      24|\n",
      "|2017-08-15|      24|\n",
      "|2017-03-31|      24|\n",
      "|2017-07-12|      24|\n",
      "|2017-09-12|      24|\n",
      "|2017-11-20|      24|\n",
      "|2017-10-06|      24|\n",
      "|2017-08-06|      24|\n",
      "|2017-03-06|      24|\n",
      "|2017-11-08|      24|\n",
      "|2017-09-22|      24|\n",
      "|2017-03-29|      24|\n",
      "|2017-07-27|      24|\n",
      "|2017-10-12|      24|\n",
      "|2017-08-25|      24|\n",
      "|2017-11-14|      24|\n",
      "|2017-07-05|      24|\n",
      "|2017-09-17|      24|\n",
      "|2017-05-17|      24|\n",
      "+----------+--------+\n",
      "only showing top 20 rows"
     ]
    }
   ],
   "source": [
    "spark.sql(\"SELECT date_id,count(*) FROM date_dim_table GROUP BY date_id ORDER BY COUNT(*) DESC \").show()"
   ]
  },
  {
   "cell_type": "code",
   "execution_count": 39,
   "id": "b6879b39",
   "metadata": {},
   "outputs": [
    {
     "data": {
      "application/vnd.jupyter.widget-view+json": {
       "model_id": "b51c72dae17f4d278764908debe57220",
       "version_major": 2,
       "version_minor": 0
      },
      "text/plain": [
       "VBox()"
      ]
     },
     "metadata": {},
     "output_type": "display_data"
    },
    {
     "data": {
      "application/vnd.jupyter.widget-view+json": {
       "model_id": "",
       "version_major": 2,
       "version_minor": 0
      },
      "text/plain": [
       "FloatProgress(value=0.0, bar_style='info', description='Progress:', layout=Layout(height='25px', width='50%'),…"
      ]
     },
     "metadata": {},
     "output_type": "display_data"
    }
   ],
   "source": [
    "date_dim = date_dim.withColumn(\"date_time_stamp\", concat(date_dim.date_id,lit(' '),date_dim.hour,lit(':00'),lit(':00')))"
   ]
  },
  {
   "cell_type": "code",
   "execution_count": 40,
   "id": "a0bda83e",
   "metadata": {},
   "outputs": [
    {
     "data": {
      "application/vnd.jupyter.widget-view+json": {
       "model_id": "768363607be24d96a636b080a70166f8",
       "version_major": 2,
       "version_minor": 0
      },
      "text/plain": [
       "VBox()"
      ]
     },
     "metadata": {},
     "output_type": "display_data"
    },
    {
     "data": {
      "application/vnd.jupyter.widget-view+json": {
       "model_id": "",
       "version_major": 2,
       "version_minor": 0
      },
      "text/plain": [
       "FloatProgress(value=0.0, bar_style='info', description='Progress:', layout=Layout(height='25px', width='50%'),…"
      ]
     },
     "metadata": {},
     "output_type": "display_data"
    },
    {
     "name": "stdout",
     "output_type": "stream",
     "text": [
      "+----------+----+--------+---+---------+----+-------------------+\n",
      "|   date_id|year|   month|day|  weekday|hour|    date_time_stamp|\n",
      "+----------+----+--------+---+---------+----+-------------------+\n",
      "|2017-01-11|2017| January| 11|Wednesday|  23|2017-01-11 23:00:00|\n",
      "|2017-01-06|2017| January|  6|   Friday|  11|2017-01-06 11:00:00|\n",
      "|2017-02-17|2017|February| 17|   Friday|   2| 2017-02-17 2:00:00|\n",
      "|2017-01-29|2017| January| 29|   Sunday|   5| 2017-01-29 5:00:00|\n",
      "|2017-01-05|2017| January|  5| Thursday|  11|2017-01-05 11:00:00|\n",
      "+----------+----+--------+---+---------+----+-------------------+\n",
      "only showing top 5 rows"
     ]
    }
   ],
   "source": [
    "date_dim.show(5)"
   ]
  },
  {
   "cell_type": "code",
   "execution_count": 41,
   "id": "726ac6e1",
   "metadata": {},
   "outputs": [
    {
     "data": {
      "application/vnd.jupyter.widget-view+json": {
       "model_id": "ba9fcb737ec14820a174b5953fceda5a",
       "version_major": 2,
       "version_minor": 0
      },
      "text/plain": [
       "VBox()"
      ]
     },
     "metadata": {},
     "output_type": "display_data"
    },
    {
     "data": {
      "application/vnd.jupyter.widget-view+json": {
       "model_id": "",
       "version_major": 2,
       "version_minor": 0
      },
      "text/plain": [
       "FloatProgress(value=0.0, bar_style='info', description='Progress:', layout=Layout(height='25px', width='50%'),…"
      ]
     },
     "metadata": {},
     "output_type": "display_data"
    }
   ],
   "source": [
    "date_dim = date_dim.withColumn('date_time_stamp', to_timestamp(col('date_time_stamp'), 'yyyy-MM-dd HH:mm:ss'))"
   ]
  },
  {
   "cell_type": "code",
   "execution_count": 42,
   "id": "3261d6d2",
   "metadata": {},
   "outputs": [
    {
     "data": {
      "application/vnd.jupyter.widget-view+json": {
       "model_id": "14f8b68ed2fd4aa9805e83b879804804",
       "version_major": 2,
       "version_minor": 0
      },
      "text/plain": [
       "VBox()"
      ]
     },
     "metadata": {},
     "output_type": "display_data"
    },
    {
     "data": {
      "application/vnd.jupyter.widget-view+json": {
       "model_id": "",
       "version_major": 2,
       "version_minor": 0
      },
      "text/plain": [
       "FloatProgress(value=0.0, bar_style='info', description='Progress:', layout=Layout(height='25px', width='50%'),…"
      ]
     },
     "metadata": {},
     "output_type": "display_data"
    },
    {
     "name": "stdout",
     "output_type": "stream",
     "text": [
      "root\n",
      " |-- date_id: date (nullable = true)\n",
      " |-- year: integer (nullable = true)\n",
      " |-- month: string (nullable = true)\n",
      " |-- day: integer (nullable = true)\n",
      " |-- weekday: string (nullable = true)\n",
      " |-- hour: integer (nullable = true)\n",
      " |-- date_time_stamp: timestamp (nullable = true)"
     ]
    }
   ],
   "source": [
    "date_dim.printSchema()"
   ]
  },
  {
   "cell_type": "code",
   "execution_count": 43,
   "id": "5940f00b",
   "metadata": {
    "scrolled": true
   },
   "outputs": [
    {
     "data": {
      "application/vnd.jupyter.widget-view+json": {
       "model_id": "830bf6634cbf4d50a3d1aeb475f27c08",
       "version_major": 2,
       "version_minor": 0
      },
      "text/plain": [
       "VBox()"
      ]
     },
     "metadata": {},
     "output_type": "display_data"
    },
    {
     "data": {
      "application/vnd.jupyter.widget-view+json": {
       "model_id": "",
       "version_major": 2,
       "version_minor": 0
      },
      "text/plain": [
       "FloatProgress(value=0.0, bar_style='info', description='Progress:', layout=Layout(height='25px', width='50%'),…"
      ]
     },
     "metadata": {},
     "output_type": "display_data"
    },
    {
     "name": "stdout",
     "output_type": "stream",
     "text": [
      "+----------+----+------+---+---------+----+-------------------+\n",
      "|   date_id|year| month|day|  weekday|hour|    date_time_stamp|\n",
      "+----------+----+------+---+---------+----+-------------------+\n",
      "|2017-07-04|2017|  July|  4|  Tuesday|  16|2017-07-04 16:00:00|\n",
      "|2017-07-23|2017|  July| 23|   Sunday|  12|2017-07-23 12:00:00|\n",
      "|2017-08-02|2017|August|  2|Wednesday|  20|2017-08-02 20:00:00|\n",
      "|2017-07-13|2017|  July| 13| Thursday|   4|2017-07-13 04:00:00|\n",
      "|2017-07-22|2017|  July| 22| Saturday|  13|2017-07-22 13:00:00|\n",
      "+----------+----+------+---+---------+----+-------------------+\n",
      "only showing top 5 rows"
     ]
    }
   ],
   "source": [
    "date_dim.show(5)"
   ]
  },
  {
   "cell_type": "markdown",
   "id": "7c6af17d",
   "metadata": {},
   "source": [
    "### * ATM dimension:\n",
    "    - ATM ID\n",
    "    - ATM Number\n",
    "    - ATM manufacturer\n",
    "    - ATM Location_id\n",
    "    - ATM Location\n",
    "    \n",
    "\n",
    "\n",
    "\n"
   ]
  },
  {
   "cell_type": "code",
   "execution_count": 44,
   "id": "1251dd95",
   "metadata": {},
   "outputs": [
    {
     "data": {
      "application/vnd.jupyter.widget-view+json": {
       "model_id": "9f03ad5acfc5433e99a8f23700254b86",
       "version_major": 2,
       "version_minor": 0
      },
      "text/plain": [
       "VBox()"
      ]
     },
     "metadata": {},
     "output_type": "display_data"
    },
    {
     "data": {
      "application/vnd.jupyter.widget-view+json": {
       "model_id": "",
       "version_major": 2,
       "version_minor": 0
      },
      "text/plain": [
       "FloatProgress(value=0.0, bar_style='info', description='Progress:', layout=Layout(height='25px', width='50%'),…"
      ]
     },
     "metadata": {},
     "output_type": "display_data"
    }
   ],
   "source": [
    "\n",
    "\n",
    "\n",
    "atm_dim = atm_trans.select(atm_trans.atm_id .alias(\"atm_id\"),\n",
    "                               concat(atm_trans.atm_street_number,lit('_'),atm_trans.atm_streetname).alias(\"atm_number\"),\n",
    "                               atm_trans.atm_manufacturer.alias(\"atm_manufacturer\"),\n",
    "                               atm_trans.weather_city_id.alias(\"atm_loaction_id\"),\n",
    "                               atm_trans.atm_location.alias(\"atm_location\")\n",
    "                               #atm_trans.atm_streetname.alias(\"atm_streetname\"),\n",
    "                               #atm_trans.atm_status.alias(\"atm_status\"),\n",
    "                               #atm_trans.atm_zipcode.alias(\"atm_zipcode\"),\n",
    "                               #atm_trans.atm_lat.alias(\"atm_lat\"),\n",
    "                               #atm_trans.atm_lon.alias(\"atm_lon\")\n",
    "                          )\n",
    "                               "
   ]
  },
  {
   "cell_type": "code",
   "execution_count": 45,
   "id": "2edbff39",
   "metadata": {},
   "outputs": [
    {
     "data": {
      "application/vnd.jupyter.widget-view+json": {
       "model_id": "ba566a41641c40c7b123586651ea7470",
       "version_major": 2,
       "version_minor": 0
      },
      "text/plain": [
       "VBox()"
      ]
     },
     "metadata": {},
     "output_type": "display_data"
    },
    {
     "data": {
      "application/vnd.jupyter.widget-view+json": {
       "model_id": "",
       "version_major": 2,
       "version_minor": 0
      },
      "text/plain": [
       "FloatProgress(value=0.0, bar_style='info', description='Progress:', layout=Layout(height='25px', width='50%'),…"
      ]
     },
     "metadata": {},
     "output_type": "display_data"
    }
   ],
   "source": [
    "atm_dim = atm_dim.dropDuplicates()"
   ]
  },
  {
   "cell_type": "code",
   "execution_count": 46,
   "id": "f4f3319d",
   "metadata": {},
   "outputs": [
    {
     "data": {
      "application/vnd.jupyter.widget-view+json": {
       "model_id": "77e3870894ad4a7a99086deea020188f",
       "version_major": 2,
       "version_minor": 0
      },
      "text/plain": [
       "VBox()"
      ]
     },
     "metadata": {},
     "output_type": "display_data"
    },
    {
     "data": {
      "application/vnd.jupyter.widget-view+json": {
       "model_id": "",
       "version_major": 2,
       "version_minor": 0
      },
      "text/plain": [
       "FloatProgress(value=0.0, bar_style='info', description='Progress:', layout=Layout(height='25px', width='50%'),…"
      ]
     },
     "metadata": {},
     "output_type": "display_data"
    },
    {
     "name": "stdout",
     "output_type": "stream",
     "text": [
      "225"
     ]
    }
   ],
   "source": [
    "atm_dim.count()"
   ]
  },
  {
   "cell_type": "code",
   "execution_count": 47,
   "id": "1f9d7e9d",
   "metadata": {},
   "outputs": [
    {
     "data": {
      "application/vnd.jupyter.widget-view+json": {
       "model_id": "e4208165dbdf4806a358b756b945cc1d",
       "version_major": 2,
       "version_minor": 0
      },
      "text/plain": [
       "VBox()"
      ]
     },
     "metadata": {},
     "output_type": "display_data"
    },
    {
     "data": {
      "application/vnd.jupyter.widget-view+json": {
       "model_id": "",
       "version_major": 2,
       "version_minor": 0
      },
      "text/plain": [
       "FloatProgress(value=0.0, bar_style='info', description='Progress:', layout=Layout(height='25px', width='50%'),…"
      ]
     },
     "metadata": {},
     "output_type": "display_data"
    },
    {
     "name": "stdout",
     "output_type": "stream",
     "text": [
      "+------+---------------------+----------------+---------------+--------------------+\n",
      "|atm_id|atm_number           |atm_manufacturer|atm_loaction_id|atm_location        |\n",
      "+------+---------------------+----------------+---------------+--------------------+\n",
      "|9     |12_Storegade         |Diebold Nixdorf |2620952        |Hadsund             |\n",
      "|95    |75_RÃƒÂ¥dhuspladsen  |NCR             |2618425        |Intern  KÃƒÂ¸benhavn|\n",
      "|19    |135_Vejlevej         |NCR             |2618528        |Kolding             |\n",
      "|17    |16_ÃƒËœstervold      |NCR             |2620952        |Randers             |\n",
      "|39    |14_GodthÃƒÂ¥bsvej    |NCR             |null           |Svenstrup           |\n",
      "|10    |6_Torvet             |NCR             |null           |NÃƒÂ¸rresundby      |\n",
      "|58    |4_Baunebakken        |NCR             |2612500        |StÃƒÂ¸vring         |\n",
      "|96    |4_Europa Plads       |NCR             |null           |Aalborg Hallen      |\n",
      "|111   |75_Ceres Byen        |Diebold Nixdorf |2624652        |Aarhus              |\n",
      "|113   |29_Mariendals AllÃƒÂ¨|Diebold Nixdorf |null           |Slagelse            |\n",
      "|108   |53_Toftevej          |NCR             |2624652        |HÃƒÂ¸rning Hallen   |\n",
      "|103   |20_Hadsundvej        |Diebold Nixdorf |null           |Vejgaard            |\n",
      "|18    |3_Toldboden          |Diebold Nixdorf |null           |Viborg              |\n",
      "|92    |8_ÃƒËœstergade       |NCR             |2620214        |Intern  HjÃƒÂ¸rring |\n",
      "|63    |1_AakjÃƒÂ¦rsvej      |NCR             |2619908        |Brugsen i Breum     |\n",
      "|27    |30_Dalgasgade        |NCR             |null           |Herning             |\n",
      "|45    |144_HjÃƒÂ¸rringvej   |NCR             |2621927        |Abildgaard          |\n",
      "|25    |3_FÃƒÂ¦lledvej       |Diebold Nixdorf |null           |Odense              |\n",
      "|14    |12_NÃƒÂ¸rrealle      |NCR             |2624652        |HÃƒÂ¸rning          |\n",
      "|33    |43_Ellehammersvej    |NCR             |null           |Vadum               |\n",
      "+------+---------------------+----------------+---------------+--------------------+\n",
      "only showing top 20 rows"
     ]
    }
   ],
   "source": [
    "atm_dim.show(truncate = False)"
   ]
  },
  {
   "cell_type": "code",
   "execution_count": 48,
   "id": "81e6cc85",
   "metadata": {},
   "outputs": [
    {
     "data": {
      "application/vnd.jupyter.widget-view+json": {
       "model_id": "3626555d255c4792a0b49b4ac781cb21",
       "version_major": 2,
       "version_minor": 0
      },
      "text/plain": [
       "VBox()"
      ]
     },
     "metadata": {},
     "output_type": "display_data"
    },
    {
     "data": {
      "application/vnd.jupyter.widget-view+json": {
       "model_id": "",
       "version_major": 2,
       "version_minor": 0
      },
      "text/plain": [
       "FloatProgress(value=0.0, bar_style='info', description='Progress:', layout=Layout(height='25px', width='50%'),…"
      ]
     },
     "metadata": {},
     "output_type": "display_data"
    }
   ],
   "source": [
    "# We could see unwanted Null Values, due to atm_location_id ; treating the null values:\n",
    "atm_dim = atm_dim.na.drop(how = 'any' )"
   ]
  },
  {
   "cell_type": "code",
   "execution_count": 49,
   "id": "b92b194f",
   "metadata": {},
   "outputs": [
    {
     "data": {
      "application/vnd.jupyter.widget-view+json": {
       "model_id": "47050557ec764dbaaca94651f34ac759",
       "version_major": 2,
       "version_minor": 0
      },
      "text/plain": [
       "VBox()"
      ]
     },
     "metadata": {},
     "output_type": "display_data"
    },
    {
     "data": {
      "application/vnd.jupyter.widget-view+json": {
       "model_id": "",
       "version_major": 2,
       "version_minor": 0
      },
      "text/plain": [
       "FloatProgress(value=0.0, bar_style='info', description='Progress:', layout=Layout(height='25px', width='50%'),…"
      ]
     },
     "metadata": {},
     "output_type": "display_data"
    }
   ],
   "source": [
    "## For using SQL, we need to create a temporary view,\n",
    "atm_dim.createOrReplaceTempView(\"atm_dim_table\")\n"
   ]
  },
  {
   "cell_type": "code",
   "execution_count": 50,
   "id": "78df0bfb",
   "metadata": {},
   "outputs": [
    {
     "data": {
      "application/vnd.jupyter.widget-view+json": {
       "model_id": "0d5147544aaf4a79953e3969ac75b559",
       "version_major": 2,
       "version_minor": 0
      },
      "text/plain": [
       "VBox()"
      ]
     },
     "metadata": {},
     "output_type": "display_data"
    },
    {
     "data": {
      "application/vnd.jupyter.widget-view+json": {
       "model_id": "",
       "version_major": 2,
       "version_minor": 0
      },
      "text/plain": [
       "FloatProgress(value=0.0, bar_style='info', description='Progress:', layout=Layout(height='25px', width='50%'),…"
      ]
     },
     "metadata": {},
     "output_type": "display_data"
    },
    {
     "name": "stdout",
     "output_type": "stream",
     "text": [
      "+------+--------+\n",
      "|atm_id|count(1)|\n",
      "+------+--------+\n",
      "|    81|       1|\n",
      "|    65|       1|\n",
      "|    76|       1|\n",
      "|    12|       1|\n",
      "|   110|       1|\n",
      "|    11|       1|\n",
      "|    83|       1|\n",
      "|    33|       1|\n",
      "|    60|       1|\n",
      "|    87|       1|\n",
      "|    90|       1|\n",
      "|    66|       1|\n",
      "|   104|       1|\n",
      "|    99|       1|\n",
      "|    74|       1|\n",
      "|     4|       1|\n",
      "|    35|       1|\n",
      "|   107|       1|\n",
      "|     8|       1|\n",
      "|     1|       1|\n",
      "+------+--------+\n",
      "only showing top 20 rows"
     ]
    }
   ],
   "source": [
    "spark.sql(\"SELECT atm_id,count(*) FROM atm_dim_table GROUP BY atm_id ORDER BY COUNT(*) DESC \").show()"
   ]
  },
  {
   "cell_type": "code",
   "execution_count": 51,
   "id": "19de24ef",
   "metadata": {},
   "outputs": [
    {
     "data": {
      "application/vnd.jupyter.widget-view+json": {
       "model_id": "916674566405469b9ec3474ec872f34f",
       "version_major": 2,
       "version_minor": 0
      },
      "text/plain": [
       "VBox()"
      ]
     },
     "metadata": {},
     "output_type": "display_data"
    },
    {
     "data": {
      "application/vnd.jupyter.widget-view+json": {
       "model_id": "",
       "version_major": 2,
       "version_minor": 0
      },
      "text/plain": [
       "FloatProgress(value=0.0, bar_style='info', description='Progress:', layout=Layout(height='25px', width='50%'),…"
      ]
     },
     "metadata": {},
     "output_type": "display_data"
    },
    {
     "name": "stdout",
     "output_type": "stream",
     "text": [
      "+------+----------------------+----------------+---------------+--------------------------+\n",
      "|atm_id|atm_number            |atm_manufacturer|atm_loaction_id|atm_location              |\n",
      "+------+----------------------+----------------+---------------+--------------------------+\n",
      "|9     |12_Storegade          |Diebold Nixdorf |2620952        |Hadsund                   |\n",
      "|95    |75_RÃƒÂ¥dhuspladsen   |NCR             |2618425        |Intern  KÃƒÂ¸benhavn      |\n",
      "|19    |135_Vejlevej          |NCR             |2618528        |Kolding                   |\n",
      "|17    |16_ÃƒËœstervold       |NCR             |2620952        |Randers                   |\n",
      "|111   |75_Ceres Byen         |Diebold Nixdorf |2624652        |Aarhus                    |\n",
      "|58    |4_Baunebakken         |NCR             |2612500        |StÃƒÂ¸vring               |\n",
      "|108   |53_Toftevej           |NCR             |2624652        |HÃƒÂ¸rning Hallen         |\n",
      "|92    |8_ÃƒËœstergade        |NCR             |2620214        |Intern  HjÃƒÂ¸rring       |\n",
      "|14    |12_NÃƒÂ¸rrealle       |NCR             |2624652        |HÃƒÂ¸rning                |\n",
      "|63    |1_AakjÃƒÂ¦rsvej       |NCR             |2619908        |Brugsen i Breum           |\n",
      "|45    |144_HjÃƒÂ¸rringvej    |NCR             |2621927        |Abildgaard                |\n",
      "|37    |36_Borgergade         |NCR             |2614030        |Silkeborg                 |\n",
      "|13    |3_Vestergade          |NCR             |2621927        |SÃƒÂ¦by                   |\n",
      "|39    |14_GodthÃƒÂ¥bsvej     |NCR             |2612021        |Svenstrup                 |\n",
      "|33    |43_Ellehammersvej     |NCR             |2610823        |Vadum                     |\n",
      "|35    |6_ÃƒËœstergade        |NCR             |2625037        |Aabybro                   |\n",
      "|81    |4_TornhÃƒÂ¸jvej       |NCR             |2621449        |Spar KÃƒÂ¸bmand TornhÃƒÂ¸j|\n",
      "|3     |12_RÃƒÂ¥dhusstrÃƒÂ¦det|NCR             |2619426        |Ikast                     |\n",
      "|79    |9_Brogade             |NCR             |2616933        |Middelfart                |\n",
      "|1     |8_Farimagsvej         |NCR             |2616038        |NÃƒÂ¦stved                |\n",
      "+------+----------------------+----------------+---------------+--------------------------+\n",
      "only showing top 20 rows"
     ]
    }
   ],
   "source": [
    "atm_dim.show(truncate = False)"
   ]
  },
  {
   "cell_type": "markdown",
   "id": "4e88e96c",
   "metadata": {},
   "source": [
    "### * Card type dimension\n",
    "\n",
    "We can have a card_number and card_type associated with it.\n",
    "\n",
    "A card_type_id to be associated with each transaction.\n",
    "        - "
   ]
  },
  {
   "cell_type": "code",
   "execution_count": 52,
   "id": "925131be",
   "metadata": {},
   "outputs": [
    {
     "data": {
      "application/vnd.jupyter.widget-view+json": {
       "model_id": "a10dfcc46fa14ffbb2103856e0c936f2",
       "version_major": 2,
       "version_minor": 0
      },
      "text/plain": [
       "VBox()"
      ]
     },
     "metadata": {},
     "output_type": "display_data"
    },
    {
     "data": {
      "application/vnd.jupyter.widget-view+json": {
       "model_id": "",
       "version_major": 2,
       "version_minor": 0
      },
      "text/plain": [
       "FloatProgress(value=0.0, bar_style='info', description='Progress:', layout=Layout(height='25px', width='50%'),…"
      ]
     },
     "metadata": {},
     "output_type": "display_data"
    }
   ],
   "source": [
    "unique_cards = atm_trans.select(\"card_type\").distinct()"
   ]
  },
  {
   "cell_type": "code",
   "execution_count": 53,
   "id": "6b567e89",
   "metadata": {},
   "outputs": [
    {
     "data": {
      "application/vnd.jupyter.widget-view+json": {
       "model_id": "1c4cc8ab1f0a4da4a18fbdb24c45c50d",
       "version_major": 2,
       "version_minor": 0
      },
      "text/plain": [
       "VBox()"
      ]
     },
     "metadata": {},
     "output_type": "display_data"
    },
    {
     "data": {
      "application/vnd.jupyter.widget-view+json": {
       "model_id": "",
       "version_major": 2,
       "version_minor": 0
      },
      "text/plain": [
       "FloatProgress(value=0.0, bar_style='info', description='Progress:', layout=Layout(height='25px', width='50%'),…"
      ]
     },
     "metadata": {},
     "output_type": "display_data"
    },
    {
     "name": "stdout",
     "output_type": "stream",
     "text": [
      "+--------------------+\n",
      "|           card_type|\n",
      "+--------------------+\n",
      "|Visa Dankort - on-us|\n",
      "|  Mastercard - on-us|\n",
      "|         HÃƒÂ¦vekort|\n",
      "|            VisaPlus|\n",
      "|     Dankort - on-us|\n",
      "|        Visa Dankort|\n",
      "| HÃƒÂ¦vekort - on-us|\n",
      "|              CIRRUS|\n",
      "|                VISA|\n",
      "|             Maestro|\n",
      "|          MasterCard|\n",
      "|             Dankort|\n",
      "+--------------------+"
     ]
    }
   ],
   "source": [
    "unique_cards.show()\n"
   ]
  },
  {
   "cell_type": "code",
   "execution_count": 54,
   "id": "2babb81a",
   "metadata": {},
   "outputs": [
    {
     "data": {
      "application/vnd.jupyter.widget-view+json": {
       "model_id": "e26ec14f5ba94dcc9dab9a33789bc955",
       "version_major": 2,
       "version_minor": 0
      },
      "text/plain": [
       "VBox()"
      ]
     },
     "metadata": {},
     "output_type": "display_data"
    },
    {
     "data": {
      "application/vnd.jupyter.widget-view+json": {
       "model_id": "",
       "version_major": 2,
       "version_minor": 0
      },
      "text/plain": [
       "FloatProgress(value=0.0, bar_style='info', description='Progress:', layout=Layout(height='25px', width='50%'),…"
      ]
     },
     "metadata": {},
     "output_type": "display_data"
    }
   ],
   "source": [
    "\n",
    "from pyspark.sql.functions import when\n",
    "atm_trans = atm_trans.withColumn('card_type_id', \n",
    "                    when(atm_trans.card_type == \"Visa Dankort - on-us\", 1)\n",
    "                   .when(atm_trans.card_type == \"Mastercard - on-us\", 2)\n",
    "                   .when(atm_trans.card_type == \"HÃƒÂ¦vekort\", 3)\n",
    "                   .when(atm_trans.card_type == \"VisaPlus\", 4)\n",
    "                   .when(atm_trans.card_type == \"Dankort - on-us\", 5)\n",
    "                   .when(atm_trans.card_type == \"Visa Dankort\", 6)\n",
    "                    .when(atm_trans.card_type == \"HÃƒÂ¦vekort - on-us\", 7)\n",
    "                    .when(atm_trans.card_type == \"CIRRUS\", 8)\n",
    "                    .when(atm_trans.card_type == \"VISA\", 9)\n",
    "                    .when(atm_trans.card_type == \"Maestro\", 10)\n",
    "                    .when(atm_trans.card_type == \"MasterCard\", 11)\n",
    "                    .when(atm_trans.card_type == \"Dankort\", 12)\n",
    "           .otherwise(0))"
   ]
  },
  {
   "cell_type": "code",
   "execution_count": 55,
   "id": "43b5e914",
   "metadata": {},
   "outputs": [
    {
     "data": {
      "application/vnd.jupyter.widget-view+json": {
       "model_id": "fc5bb0146b774cac8f84573f105127fa",
       "version_major": 2,
       "version_minor": 0
      },
      "text/plain": [
       "VBox()"
      ]
     },
     "metadata": {},
     "output_type": "display_data"
    },
    {
     "data": {
      "application/vnd.jupyter.widget-view+json": {
       "model_id": "",
       "version_major": 2,
       "version_minor": 0
      },
      "text/plain": [
       "FloatProgress(value=0.0, bar_style='info', description='Progress:', layout=Layout(height='25px', width='50%'),…"
      ]
     },
     "metadata": {},
     "output_type": "display_data"
    }
   ],
   "source": [
    "#cards_dictionary = card_dict(unique_cards)\n",
    "\n",
    "card_type_dim = atm_trans.select(atm_trans.card_type_id.alias(\"card_type_id\"),\n",
    "    atm_trans.card_type.alias(\"card_type\"))"
   ]
  },
  {
   "cell_type": "code",
   "execution_count": 56,
   "id": "cb3e97c0",
   "metadata": {},
   "outputs": [
    {
     "data": {
      "application/vnd.jupyter.widget-view+json": {
       "model_id": "ff0832b7acea4baeb923aa21e65b855a",
       "version_major": 2,
       "version_minor": 0
      },
      "text/plain": [
       "VBox()"
      ]
     },
     "metadata": {},
     "output_type": "display_data"
    },
    {
     "data": {
      "application/vnd.jupyter.widget-view+json": {
       "model_id": "",
       "version_major": 2,
       "version_minor": 0
      },
      "text/plain": [
       "FloatProgress(value=0.0, bar_style='info', description='Progress:', layout=Layout(height='25px', width='50%'),…"
      ]
     },
     "metadata": {},
     "output_type": "display_data"
    },
    {
     "name": "stdout",
     "output_type": "stream",
     "text": [
      "root\n",
      " |-- card_type_id: integer (nullable = false)\n",
      " |-- card_type: string (nullable = true)\n",
      "\n",
      "+------------+--------------------+\n",
      "|card_type_id|           card_type|\n",
      "+------------+--------------------+\n",
      "|          11|          MasterCard|\n",
      "|          11|          MasterCard|\n",
      "|           9|                VISA|\n",
      "|           9|                VISA|\n",
      "|          11|          MasterCard|\n",
      "|          11|          MasterCard|\n",
      "|          11|          MasterCard|\n",
      "|           2|  Mastercard - on-us|\n",
      "|          11|          MasterCard|\n",
      "|           9|                VISA|\n",
      "|          12|             Dankort|\n",
      "|           6|        Visa Dankort|\n",
      "|           2|  Mastercard - on-us|\n",
      "|           2|  Mastercard - on-us|\n",
      "|           2|  Mastercard - on-us|\n",
      "|           1|Visa Dankort - on-us|\n",
      "|          11|          MasterCard|\n",
      "|           2|  Mastercard - on-us|\n",
      "|           6|        Visa Dankort|\n",
      "|           9|                VISA|\n",
      "+------------+--------------------+\n",
      "only showing top 20 rows"
     ]
    }
   ],
   "source": [
    "card_type_dim.printSchema()\n",
    "\n",
    "card_type_dim.show()"
   ]
  },
  {
   "cell_type": "code",
   "execution_count": 57,
   "id": "62f7f735",
   "metadata": {},
   "outputs": [
    {
     "data": {
      "application/vnd.jupyter.widget-view+json": {
       "model_id": "0f1081406005489bb2b92aa8c0e2ba47",
       "version_major": 2,
       "version_minor": 0
      },
      "text/plain": [
       "VBox()"
      ]
     },
     "metadata": {},
     "output_type": "display_data"
    },
    {
     "data": {
      "application/vnd.jupyter.widget-view+json": {
       "model_id": "",
       "version_major": 2,
       "version_minor": 0
      },
      "text/plain": [
       "FloatProgress(value=0.0, bar_style='info', description='Progress:', layout=Layout(height='25px', width='50%'),…"
      ]
     },
     "metadata": {},
     "output_type": "display_data"
    }
   ],
   "source": [
    "#Removing the duplicate rows:\n",
    "card_type_dim = card_type_dim.dropDuplicates()"
   ]
  },
  {
   "cell_type": "code",
   "execution_count": 58,
   "id": "65e515a0",
   "metadata": {},
   "outputs": [
    {
     "data": {
      "application/vnd.jupyter.widget-view+json": {
       "model_id": "4c9f0470477f4a34996a40c3c9a4502f",
       "version_major": 2,
       "version_minor": 0
      },
      "text/plain": [
       "VBox()"
      ]
     },
     "metadata": {},
     "output_type": "display_data"
    },
    {
     "data": {
      "application/vnd.jupyter.widget-view+json": {
       "model_id": "",
       "version_major": 2,
       "version_minor": 0
      },
      "text/plain": [
       "FloatProgress(value=0.0, bar_style='info', description='Progress:', layout=Layout(height='25px', width='50%'),…"
      ]
     },
     "metadata": {},
     "output_type": "display_data"
    },
    {
     "name": "stdout",
     "output_type": "stream",
     "text": [
      "+------------+--------------------+\n",
      "|card_type_id|card_type           |\n",
      "+------------+--------------------+\n",
      "|10          |Maestro             |\n",
      "|8           |CIRRUS              |\n",
      "|4           |VisaPlus            |\n",
      "|2           |Mastercard - on-us  |\n",
      "|3           |HÃƒÂ¦vekort         |\n",
      "|7           |HÃƒÂ¦vekort - on-us |\n",
      "|5           |Dankort - on-us     |\n",
      "|11          |MasterCard          |\n",
      "|6           |Visa Dankort        |\n",
      "|9           |VISA                |\n",
      "|1           |Visa Dankort - on-us|\n",
      "|12          |Dankort             |\n",
      "+------------+--------------------+"
     ]
    }
   ],
   "source": [
    "card_type_dim.show(truncate = False)"
   ]
  },
  {
   "cell_type": "markdown",
   "id": "7de6539f",
   "metadata": {},
   "source": [
    "### Fact Table Schema:\n",
    "\n",
    "- trans_id # Not available in source data; need to generate an autoincrement series to associate with each transaction\n",
    "- atm_id\n",
    "- weather_loc_id : weather_city_id\n",
    "- date_id\n",
    "- card_type_id\n",
    "- atm_status\n",
    "- currency\n",
    "- service\n",
    "- transaction_amount : # Not avaialble in source data ; have to use random numbers as per instructions of assignment\n",
    "- message_code\n",
    "- message_text\n",
    "- rain_3h\n",
    "- clouds_all\n",
    "- weather_id\n",
    "- weather_main\n",
    "- weather_description\n",
    "\n"
   ]
  },
  {
   "cell_type": "code",
   "execution_count": 59,
   "id": "b50b2165",
   "metadata": {},
   "outputs": [
    {
     "data": {
      "application/vnd.jupyter.widget-view+json": {
       "model_id": "22b3b60a28b2412894b740bc10d74786",
       "version_major": 2,
       "version_minor": 0
      },
      "text/plain": [
       "VBox()"
      ]
     },
     "metadata": {},
     "output_type": "display_data"
    },
    {
     "data": {
      "application/vnd.jupyter.widget-view+json": {
       "model_id": "",
       "version_major": 2,
       "version_minor": 0
      },
      "text/plain": [
       "FloatProgress(value=0.0, bar_style='info', description='Progress:', layout=Layout(height='25px', width='50%'),…"
      ]
     },
     "metadata": {},
     "output_type": "display_data"
    },
    {
     "name": "stdout",
     "output_type": "stream",
     "text": [
      "root\n",
      " |-- year: integer (nullable = true)\n",
      " |-- month: string (nullable = true)\n",
      " |-- day: integer (nullable = true)\n",
      " |-- weekday: string (nullable = true)\n",
      " |-- hour: integer (nullable = true)\n",
      " |-- atm_status: string (nullable = true)\n",
      " |-- atm_id: integer (nullable = true)\n",
      " |-- atm_manufacturer: string (nullable = true)\n",
      " |-- atm_location: string (nullable = true)\n",
      " |-- atm_streetname: string (nullable = true)\n",
      " |-- atm_street_number: integer (nullable = true)\n",
      " |-- atm_zipcode: integer (nullable = true)\n",
      " |-- atm_lat: double (nullable = true)\n",
      " |-- atm_lon: double (nullable = true)\n",
      " |-- currency: string (nullable = true)\n",
      " |-- card_type: string (nullable = true)\n",
      " |-- message_code: string (nullable = true)\n",
      " |-- service: string (nullable = true)\n",
      " |-- message_text: string (nullable = true)\n",
      " |-- message_text_1: string (nullable = true)\n",
      " |-- weather_lat: double (nullable = true)\n",
      " |-- weather_lon: double (nullable = true)\n",
      " |-- weather_city_id: integer (nullable = true)\n",
      " |-- weather_city_name: string (nullable = true)\n",
      " |-- temp: double (nullable = true)\n",
      " |-- pressure: integer (nullable = true)\n",
      " |-- humidity: integer (nullable = true)\n",
      " |-- wind_speed: integer (nullable = true)\n",
      " |-- wind_deg: integer (nullable = true)\n",
      " |-- rain_3h: double (nullable = true)\n",
      " |-- clouds_all: integer (nullable = true)\n",
      " |-- weather_id: integer (nullable = true)\n",
      " |-- weather_main: string (nullable = true)\n",
      " |-- weather_description: string (nullable = true)\n",
      " |-- date_id: date (nullable = true)\n",
      " |-- card_type_id: integer (nullable = false)"
     ]
    }
   ],
   "source": [
    "atm_trans.printSchema()"
   ]
  },
  {
   "cell_type": "code",
   "execution_count": 60,
   "id": "c16dacda",
   "metadata": {},
   "outputs": [
    {
     "data": {
      "application/vnd.jupyter.widget-view+json": {
       "model_id": "94097bdb1c3146a5869e94db436d44ee",
       "version_major": 2,
       "version_minor": 0
      },
      "text/plain": [
       "VBox()"
      ]
     },
     "metadata": {},
     "output_type": "display_data"
    },
    {
     "data": {
      "application/vnd.jupyter.widget-view+json": {
       "model_id": "",
       "version_major": 2,
       "version_minor": 0
      },
      "text/plain": [
       "FloatProgress(value=0.0, bar_style='info', description='Progress:', layout=Layout(height='25px', width='50%'),…"
      ]
     },
     "metadata": {},
     "output_type": "display_data"
    }
   ],
   "source": [
    "from pyspark.sql.functions import monotonically_increasing_id\n",
    "\n",
    "atm_trans_fact = atm_trans.select(monotonically_increasing_id().alias('trans_id'),\n",
    "                               atm_trans.atm_id.alias(\"atm_id\"),\n",
    "                               atm_trans.weather_city_id.alias(\"weather_loc_id\"),\n",
    "                               atm_trans.date_id.alias(\"date_id\"),\n",
    "                               atm_trans.card_type_id.alias(\"card_type_id\"),\n",
    "                               atm_trans.atm_status.alias(\"atm_status\"),\n",
    "                               atm_trans.currency.alias(\"currency\"),\n",
    "                               atm_trans.service.alias(\"service\"),\n",
    "                               atm_trans.message_code.alias(\"message_code\"),\n",
    "                               concat(atm_trans.message_text,lit(' | '),atm_trans.message_text_1).alias(\"message_text\"),\n",
    "                               atm_trans.rain_3h.alias(\"rain_3h\"),\n",
    "                               atm_trans.clouds_all.alias(\"clouds_all\"),\n",
    "                               atm_trans.weather_id.alias(\"weather_id\"),\n",
    "                               atm_trans.weather_main.alias(\"weather_main\"),\n",
    "                               atm_trans.weather_description.alias(\"weather_description\"))\n"
   ]
  },
  {
   "cell_type": "code",
   "execution_count": 61,
   "id": "1ad13732",
   "metadata": {},
   "outputs": [
    {
     "data": {
      "application/vnd.jupyter.widget-view+json": {
       "model_id": "1c84d723bb3445bbb783a990c071b984",
       "version_major": 2,
       "version_minor": 0
      },
      "text/plain": [
       "VBox()"
      ]
     },
     "metadata": {},
     "output_type": "display_data"
    },
    {
     "data": {
      "application/vnd.jupyter.widget-view+json": {
       "model_id": "",
       "version_major": 2,
       "version_minor": 0
      },
      "text/plain": [
       "FloatProgress(value=0.0, bar_style='info', description='Progress:', layout=Layout(height='25px', width='50%'),…"
      ]
     },
     "metadata": {},
     "output_type": "display_data"
    },
    {
     "name": "stdout",
     "output_type": "stream",
     "text": [
      "+--------+------+--------------+----------+------------+----------+--------+----------+------------+------------+-------+----------+----------+------------+-----------------------+\n",
      "|trans_id|atm_id|weather_loc_id|date_id   |card_type_id|atm_status|currency|service   |message_code|message_text|rain_3h|clouds_all|weather_id|weather_main|weather_description    |\n",
      "+--------+------+--------------+----------+------------+----------+--------+----------+------------+------------+-------+----------+----------+------------+-----------------------+\n",
      "|0       |1     |2616038       |2017-01-01|11          |Active    |DKK     |Withdrawal|5643        |null        |0.215  |92        |500       |Rain        |light rain             |\n",
      "|1       |2     |2616235       |2017-01-01|11          |Inactive  |DKK     |Withdrawal|1764        |null        |0.59   |92        |500       |Rain        |light rain             |\n",
      "|2       |2     |2616235       |2017-01-01|9           |Inactive  |DKK     |Withdrawal|1891        |null        |0.59   |92        |500       |Rain        |light rain             |\n",
      "|3       |3     |2619426       |2017-01-01|9           |Inactive  |DKK     |Withdrawal|4166        |null        |0.0    |75        |300       |Drizzle     |light intensity drizzle|\n",
      "|4       |4     |2614481       |2017-01-01|11          |Active    |DKK     |Withdrawal|5153        |null        |0.0    |88        |701       |Mist        |mist                   |\n",
      "+--------+------+--------------+----------+------------+----------+--------+----------+------------+------------+-------+----------+----------+------------+-----------------------+\n",
      "only showing top 5 rows"
     ]
    }
   ],
   "source": [
    "atm_trans_fact.show(5,truncate = False)"
   ]
  },
  {
   "cell_type": "code",
   "execution_count": 62,
   "id": "5300d99c",
   "metadata": {},
   "outputs": [
    {
     "data": {
      "application/vnd.jupyter.widget-view+json": {
       "model_id": "1a6ab4dd3433481ab4f4add1b735dd95",
       "version_major": 2,
       "version_minor": 0
      },
      "text/plain": [
       "VBox()"
      ]
     },
     "metadata": {},
     "output_type": "display_data"
    },
    {
     "data": {
      "application/vnd.jupyter.widget-view+json": {
       "model_id": "",
       "version_major": 2,
       "version_minor": 0
      },
      "text/plain": [
       "FloatProgress(value=0.0, bar_style='info', description='Progress:', layout=Layout(height='25px', width='50%'),…"
      ]
     },
     "metadata": {},
     "output_type": "display_data"
    }
   ],
   "source": [
    "# Adding transaction_amount: randomly generated\n",
    "import random\n",
    "from pyspark.sql.functions import rand\n",
    "atm_trans_fact = atm_trans_fact.withColumn('trans_amnt', rand()*10000)\n",
    "\n"
   ]
  },
  {
   "cell_type": "code",
   "execution_count": 63,
   "id": "30797f95",
   "metadata": {},
   "outputs": [
    {
     "data": {
      "application/vnd.jupyter.widget-view+json": {
       "model_id": "aa525de9c5c241dea6d1b240525ea256",
       "version_major": 2,
       "version_minor": 0
      },
      "text/plain": [
       "VBox()"
      ]
     },
     "metadata": {},
     "output_type": "display_data"
    },
    {
     "data": {
      "application/vnd.jupyter.widget-view+json": {
       "model_id": "",
       "version_major": 2,
       "version_minor": 0
      },
      "text/plain": [
       "FloatProgress(value=0.0, bar_style='info', description='Progress:', layout=Layout(height='25px', width='50%'),…"
      ]
     },
     "metadata": {},
     "output_type": "display_data"
    },
    {
     "name": "stdout",
     "output_type": "stream",
     "text": [
      "root\n",
      " |-- trans_id: long (nullable = false)\n",
      " |-- atm_id: integer (nullable = true)\n",
      " |-- weather_loc_id: integer (nullable = true)\n",
      " |-- date_id: date (nullable = true)\n",
      " |-- card_type_id: integer (nullable = false)\n",
      " |-- atm_status: string (nullable = true)\n",
      " |-- currency: string (nullable = true)\n",
      " |-- service: string (nullable = true)\n",
      " |-- message_code: string (nullable = true)\n",
      " |-- message_text: string (nullable = true)\n",
      " |-- rain_3h: double (nullable = true)\n",
      " |-- clouds_all: integer (nullable = true)\n",
      " |-- weather_id: integer (nullable = true)\n",
      " |-- weather_main: string (nullable = true)\n",
      " |-- weather_description: string (nullable = true)\n",
      " |-- trans_amnt: double (nullable = false)"
     ]
    }
   ],
   "source": [
    "atm_trans_fact.printSchema()"
   ]
  },
  {
   "cell_type": "code",
   "execution_count": 64,
   "id": "c9a0ae3f",
   "metadata": {
    "scrolled": false
   },
   "outputs": [
    {
     "data": {
      "application/vnd.jupyter.widget-view+json": {
       "model_id": "c75cda809a8f46f89a95be4aeb514991",
       "version_major": 2,
       "version_minor": 0
      },
      "text/plain": [
       "VBox()"
      ]
     },
     "metadata": {},
     "output_type": "display_data"
    },
    {
     "data": {
      "application/vnd.jupyter.widget-view+json": {
       "model_id": "",
       "version_major": 2,
       "version_minor": 0
      },
      "text/plain": [
       "FloatProgress(value=0.0, bar_style='info', description='Progress:', layout=Layout(height='25px', width='50%'),…"
      ]
     },
     "metadata": {},
     "output_type": "display_data"
    },
    {
     "name": "stdout",
     "output_type": "stream",
     "text": [
      "+------------------+\n",
      "|        trans_amnt|\n",
      "+------------------+\n",
      "| 8713.307781156414|\n",
      "| 9896.652244462037|\n",
      "| 7474.364063089788|\n",
      "| 788.7471046184858|\n",
      "| 7326.886744588837|\n",
      "|  3104.92840755795|\n",
      "|7523.0208057110685|\n",
      "| 4281.294715647411|\n",
      "| 6370.106498940855|\n",
      "| 8619.696539750874|\n",
      "| 525.0170443352042|\n",
      "| 5392.196060977626|\n",
      "| 9922.332980605446|\n",
      "|1246.7485765261522|\n",
      "| 8651.691221374474|\n",
      "|179.31137004770113|\n",
      "|3907.8256604914463|\n",
      "| 8226.834906324299|\n",
      "| 8046.308926717388|\n",
      "| 5815.106687966652|\n",
      "+------------------+\n",
      "only showing top 20 rows"
     ]
    }
   ],
   "source": [
    "\n",
    "atm_trans_fact.select('trans_amnt').show()"
   ]
  },
  {
   "cell_type": "markdown",
   "id": "ffced496",
   "metadata": {},
   "source": [
    "### Now we have our dimension and Fact tables created, we need to store then to S3 object Storage\n",
    "\n",
    "##### Dimension tables:\n",
    "- atm_dim\n",
    "- card_type_dim\n",
    "- date_dim\n",
    "- location_dim\n",
    "\n",
    "##### Fact table:\n",
    "- atm_trans_fact"
   ]
  },
  {
   "cell_type": "code",
   "execution_count": 65,
   "id": "e89255b4",
   "metadata": {},
   "outputs": [
    {
     "data": {
      "application/vnd.jupyter.widget-view+json": {
       "model_id": "985894dc7ad7462ab261e1e60ea11749",
       "version_major": 2,
       "version_minor": 0
      },
      "text/plain": [
       "VBox()"
      ]
     },
     "metadata": {},
     "output_type": "display_data"
    },
    {
     "data": {
      "application/vnd.jupyter.widget-view+json": {
       "model_id": "",
       "version_major": 2,
       "version_minor": 0
      },
      "text/plain": [
       "FloatProgress(value=0.0, bar_style='info', description='Progress:', layout=Layout(height='25px', width='50%'),…"
      ]
     },
     "metadata": {},
     "output_type": "display_data"
    }
   ],
   "source": [
    "s3_bucket = 'etl-proj'\n",
    "s3_path = 's3://s3_bucket/'\n",
    "\n",
    "\n",
    "atm_dim.write.format('csv').option('header','true').save('s3a://etl-proj/atm-dimension/atm_dim.csv',mode='overwrite')"
   ]
  },
  {
   "cell_type": "code",
   "execution_count": 66,
   "id": "dcc5a344",
   "metadata": {},
   "outputs": [
    {
     "data": {
      "application/vnd.jupyter.widget-view+json": {
       "model_id": "d98ac170626442b3bf8d27626495cca1",
       "version_major": 2,
       "version_minor": 0
      },
      "text/plain": [
       "VBox()"
      ]
     },
     "metadata": {},
     "output_type": "display_data"
    },
    {
     "data": {
      "application/vnd.jupyter.widget-view+json": {
       "model_id": "",
       "version_major": 2,
       "version_minor": 0
      },
      "text/plain": [
       "FloatProgress(value=0.0, bar_style='info', description='Progress:', layout=Layout(height='25px', width='50%'),…"
      ]
     },
     "metadata": {},
     "output_type": "display_data"
    }
   ],
   "source": [
    "card_type_dim.write.format('csv').option('header','true').save('s3a://etl-proj/card-type-dimension/card_type_dim.csv',mode='overwrite')"
   ]
  },
  {
   "cell_type": "code",
   "execution_count": null,
   "id": "a079aed4",
   "metadata": {},
   "outputs": [
    {
     "data": {
      "application/vnd.jupyter.widget-view+json": {
       "model_id": "48db9e118a8147afb90efc49aa9bfebb",
       "version_major": 2,
       "version_minor": 0
      },
      "text/plain": [
       "VBox()"
      ]
     },
     "metadata": {},
     "output_type": "display_data"
    },
    {
     "data": {
      "application/vnd.jupyter.widget-view+json": {
       "model_id": "",
       "version_major": 2,
       "version_minor": 0
      },
      "text/plain": [
       "FloatProgress(value=0.0, bar_style='info', description='Progress:', layout=Layout(height='25px', width='50%'),…"
      ]
     },
     "metadata": {},
     "output_type": "display_data"
    }
   ],
   "source": [
    "date_dim.write.format('csv').option('header','true').save('s3a://etl-proj/date-dimension/date_dim.csv',mode='overwrite')"
   ]
  },
  {
   "cell_type": "code",
   "execution_count": null,
   "id": "82eee4f1",
   "metadata": {},
   "outputs": [],
   "source": [
    "location_dim.write.format('csv').option('header','true').save('s3a://etl-proj/location-dimension/location_dim.csv',mode='overwrite')"
   ]
  },
  {
   "cell_type": "markdown",
   "id": "ca99ce34",
   "metadata": {},
   "source": [
    "##### Writing Fact Table:"
   ]
  },
  {
   "cell_type": "code",
   "execution_count": null,
   "id": "57081ab4",
   "metadata": {},
   "outputs": [],
   "source": [
    "atm_trans_fact.write.format('csv').option('header','true').save('s3a://etl-proj/transaction-fact/atm_trans_fact.csv',mode='overwrite')"
   ]
  }
 ],
 "metadata": {
  "kernelspec": {
   "display_name": "PySpark",
   "language": "",
   "name": "pysparkkernel"
  },
  "language_info": {
   "codemirror_mode": {
    "name": "python",
    "version": 2
   },
   "mimetype": "text/x-python",
   "name": "pyspark",
   "pygments_lexer": "python2"
  }
 },
 "nbformat": 4,
 "nbformat_minor": 5
}
